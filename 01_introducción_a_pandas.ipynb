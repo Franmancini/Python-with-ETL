{
  "nbformat": 4,
  "nbformat_minor": 0,
  "metadata": {
    "colab": {
      "provenance": []
    },
    "kernelspec": {
      "name": "python3",
      "display_name": "Python 3"
    },
    "language_info": {
      "name": "python"
    }
  },
  "cells": [
    {
      "cell_type": "markdown",
      "source": [
        "# Librería Pandas en Python"
      ],
      "metadata": {
        "id": "76nb3rwNjH9L"
      }
    },
    {
      "cell_type": "markdown",
      "source": [
        "# Ejemplo 1 - Librería Pandas con serie de datos númericos"
      ],
      "metadata": {
        "id": "GMVnNr65TZ-O"
      }
    },
    {
      "cell_type": "code",
      "source": [
        "import pandas as pd\n",
        "print('Item Total venta')\n",
        "s = pd.Series([100.0,200.0,300.0, 500.0,600.0,400.0,700.0,800.0,900.0,1000.0])\n",
        "s.name='ventas'\n",
        "print(s)\n",
        "\n"
      ],
      "metadata": {
        "colab": {
          "base_uri": "https://localhost:8080/"
        },
        "id": "OoG0wPenTrBQ",
        "outputId": "70692678-8c79-4e66-f92d-c7c10f31e74c"
      },
      "execution_count": 3,
      "outputs": [
        {
          "output_type": "stream",
          "name": "stdout",
          "text": [
            "Item Total venta\n",
            "0     100.0\n",
            "1     200.0\n",
            "2     300.0\n",
            "3     500.0\n",
            "4     600.0\n",
            "5     400.0\n",
            "6     700.0\n",
            "7     800.0\n",
            "8     900.0\n",
            "9    1000.0\n",
            "Name: ventas, dtype: float64\n"
          ]
        }
      ]
    },
    {
      "cell_type": "markdown",
      "source": [
        "# Ejemplo 2 - Pandas con serie de datos y etiquetas de indices tipo string"
      ],
      "metadata": {
        "id": "ujz3QOqyT2ID"
      }
    },
    {
      "cell_type": "code",
      "source": [
        "import pandas as pd\n",
        "print('Meses','  Total')\n",
        "meses = ['enero','febrero','marzo', 'abril','mayo','junio']\n",
        "totales = [100, 200, 300, 500,600,400]\n",
        "s = pd.Series(totales, index = meses)\n",
        "s"
      ],
      "metadata": {
        "colab": {
          "base_uri": "https://localhost:8080/"
        },
        "id": "Rah3t_mgT_No",
        "outputId": "12e718d8-78d6-445f-eaf0-096da1781d40"
      },
      "execution_count": null,
      "outputs": [
        {
          "output_type": "stream",
          "name": "stdout",
          "text": [
            "Meses   Total\n"
          ]
        },
        {
          "output_type": "execute_result",
          "data": {
            "text/plain": [
              "enero      100\n",
              "febrero    200\n",
              "marzo      300\n",
              "abril      500\n",
              "mayo       600\n",
              "junio      400\n",
              "dtype: int64"
            ]
          },
          "metadata": {},
          "execution_count": 2
        }
      ]
    },
    {
      "cell_type": "markdown",
      "source": [
        "# Ejemplo 3 - Pandas con serie de datos con diccionario de datos"
      ],
      "metadata": {
        "id": "gZOq7-7GUQnH"
      }
    },
    {
      "cell_type": "code",
      "source": [
        "import pandas as pd\n",
        "print('Meses','  Total')\n",
        "dicc = {'enero': 100, 'febrero': 200, 'marzo': 300, 'abril': 500,\n",
        "       'mayo': 600,'junio': 400,'julio':700}\n",
        "s = pd.Series(dicc)\n",
        "s"
      ],
      "metadata": {
        "colab": {
          "base_uri": "https://localhost:8080/"
        },
        "id": "2Q1zLW48UZfs",
        "outputId": "8283279b-98e6-425c-ae1c-8bbff4fd5a11"
      },
      "execution_count": 4,
      "outputs": [
        {
          "output_type": "stream",
          "name": "stdout",
          "text": [
            "Meses   Total\n"
          ]
        },
        {
          "output_type": "execute_result",
          "data": {
            "text/plain": [
              "enero      100\n",
              "febrero    200\n",
              "marzo      300\n",
              "abril      500\n",
              "mayo       600\n",
              "junio      400\n",
              "julio      700\n",
              "dtype: int64"
            ]
          },
          "metadata": {},
          "execution_count": 4
        }
      ]
    },
    {
      "cell_type": "markdown",
      "source": [
        "# Ejemplo 4 - Atributos y Métodos de una serie de datos"
      ],
      "metadata": {
        "id": "QOVjT0tnUkOA"
      }
    },
    {
      "cell_type": "code",
      "source": [
        "import pandas as pd\n",
        "print(\"Items  Totales\")\n",
        "s = pd.Series([100,200,300, 500,600,400])\n",
        "print(s)\n",
        "print(\"Atributos de la Serie de datos\")\n",
        "print(\"Nombre de la Serie:\",s.name)\n",
        "print(\"Cantidad de elemento:\",str(s.size))\n",
        "print(\"Nombres de la filas\",s.index)\n",
        "print(\"Tipo de dato de los elementos:\",s.dtype)\n",
        "print(\"Métodos de la Serie de datos\")\n",
        "print(\"Cantidad de la serie:\",str(s.count()))\n",
        "print(\"Suma de la serie:\",str(s.sum()))\n",
        "print(\"Max valor de la serie:\",str(s.max()))\n",
        "print(\"Min valor de la serie:\",str(s.min()))"
      ],
      "metadata": {
        "colab": {
          "base_uri": "https://localhost:8080/"
        },
        "outputId": "e018cc5c-792d-4ece-cd40-93d86b4527ef",
        "id": "Y-NjA0tkUkOB"
      },
      "execution_count": 5,
      "outputs": [
        {
          "output_type": "stream",
          "name": "stdout",
          "text": [
            "Items  Totales\n",
            "0    100\n",
            "1    200\n",
            "2    300\n",
            "3    500\n",
            "4    600\n",
            "5    400\n",
            "dtype: int64\n",
            "Atributos de la Serie de datos\n",
            "Nombre de la Serie: None\n",
            "Cantidad de elemento: 6\n",
            "Nombres de la filas RangeIndex(start=0, stop=6, step=1)\n",
            "Tipo de dato de los elementos: int64\n",
            "Métodos de la Serie de datos\n",
            "Cantidad de la serie: 6\n",
            "Suma de la serie: 2100\n",
            "Max valor de la serie: 600\n",
            "Min valor de la serie: 100\n"
          ]
        }
      ]
    },
    {
      "cell_type": "markdown",
      "source": [
        "# Ejemplo 5 -Aplicar operaciones a una serie de datos"
      ],
      "metadata": {
        "id": "D9pHa-0ljGTs"
      }
    },
    {
      "cell_type": "code",
      "source": [
        "import pandas as pd\n",
        "s = pd.Series([1, 2, 3, 4])\n",
        "print('producto de la serie')\n",
        "print(s * 2)\n",
        "print('nro pares e impares de la serie')\n",
        "print(s % 2)\n",
        "print('incrementando caracteres')\n",
        "ss = pd.Series(['a', 'b', 'c'])\n",
        "print(ss * 10)"
      ],
      "metadata": {
        "colab": {
          "base_uri": "https://localhost:8080/"
        },
        "id": "BIpS5b_KjMsp",
        "outputId": "f47ec97c-fa50-402f-e209-14dc298d6a32"
      },
      "execution_count": 9,
      "outputs": [
        {
          "output_type": "stream",
          "name": "stdout",
          "text": [
            "producto de la serie\n",
            "0    2\n",
            "1    4\n",
            "2    6\n",
            "3    8\n",
            "dtype: int64\n",
            "nro pares e impares de la serie\n",
            "0    1\n",
            "1    0\n",
            "2    1\n",
            "3    0\n",
            "dtype: int64\n",
            "incrementando caracteres\n",
            "0    aaaaaaaaaa\n",
            "1    bbbbbbbbbb\n",
            "2    cccccccccc\n",
            "dtype: object\n"
          ]
        }
      ]
    },
    {
      "cell_type": "code",
      "source": [
        "n=4\n",
        "r=n%2\n",
        "print(r)\n"
      ],
      "metadata": {
        "colab": {
          "base_uri": "https://localhost:8080/"
        },
        "id": "OE3QouMbYI-B",
        "outputId": "12c7e217-dffa-462a-87e7-0fec69a4432b"
      },
      "execution_count": 8,
      "outputs": [
        {
          "output_type": "stream",
          "name": "stdout",
          "text": [
            "0\n"
          ]
        }
      ]
    },
    {
      "cell_type": "markdown",
      "source": [
        "# Ejemplo 6 - Aplicar funciones a una serie de datos"
      ],
      "metadata": {
        "id": "hlExrAK1qYf0"
      }
    },
    {
      "cell_type": "code",
      "source": [
        "import pandas as pd\n",
        "U = pd.Series(['a', 'b', 'c','d']).str.upper()\n",
        "L = pd.Series(['A', 'B', 'C',\"D\"]).str.lower()\n",
        "print(U)\n",
        "print(L)\n"
      ],
      "metadata": {
        "colab": {
          "base_uri": "https://localhost:8080/"
        },
        "id": "16491X2Zqa7b",
        "outputId": "c3c299ab-30ef-4c38-f706-c578ffb5e1e2"
      },
      "execution_count": 18,
      "outputs": [
        {
          "output_type": "stream",
          "name": "stdout",
          "text": [
            "0    A\n",
            "1    B\n",
            "2    C\n",
            "3    D\n",
            "dtype: object\n",
            "0    a\n",
            "1    b\n",
            "2    c\n",
            "3    d\n",
            "dtype: object\n"
          ]
        }
      ]
    },
    {
      "cell_type": "markdown",
      "source": [
        "# Ejemplo 7 - Aplicar filtro a la serie de datos"
      ],
      "metadata": {
        "id": "znHjcrA7q73f"
      }
    },
    {
      "cell_type": "code",
      "source": [
        "import pandas as pd\n",
        "print('Item Total venta')\n",
        "s = pd.Series({'Enero': 100,  'Febrero':200, 'Marzo':300})\n",
        "# >= , <= , == , != , > , <\n",
        "print(s[s>=100])"
      ],
      "metadata": {
        "colab": {
          "base_uri": "https://localhost:8080/"
        },
        "id": "_IHUgX8qq93J",
        "outputId": "84bb2ee6-4d0c-4e37-b0b2-a5942a057664"
      },
      "execution_count": 25,
      "outputs": [
        {
          "output_type": "stream",
          "name": "stdout",
          "text": [
            "Item Total venta\n",
            "Enero      100\n",
            "Febrero    200\n",
            "Marzo      300\n",
            "dtype: int64\n"
          ]
        }
      ]
    },
    {
      "cell_type": "markdown",
      "source": [
        "# Ejemplo 8 - Ordenar los datos de una serie de datos en Pandas."
      ],
      "metadata": {
        "id": "VJ14l8OjeDct"
      }
    },
    {
      "cell_type": "code",
      "source": [
        "import pandas as pd\n",
        "print('Item Total venta')\n",
        "s = pd.Series({'Enero': 300,  'Febrero':100, 'Abril':200,'Marzo':400})\n",
        "print(s.sort_index(ascending = True))\n",
        "print('')\n",
        "print('Orden de datos descendente')\n",
        "print(s.sort_index(ascending = False))"
      ],
      "metadata": {
        "colab": {
          "base_uri": "https://localhost:8080/"
        },
        "id": "ZPD9kRR1eVfa",
        "outputId": "248abc2f-3873-4065-992f-d5c1cf38f236"
      },
      "execution_count": 27,
      "outputs": [
        {
          "output_type": "stream",
          "name": "stdout",
          "text": [
            "Item Total venta\n",
            "Abril      200\n",
            "Enero      300\n",
            "Febrero    100\n",
            "Marzo      400\n",
            "dtype: int64\n",
            "\n",
            "Orden de datos descendente\n",
            "Marzo      400\n",
            "Febrero    100\n",
            "Enero      300\n",
            "Abril      200\n",
            "dtype: int64\n"
          ]
        }
      ]
    },
    {
      "cell_type": "markdown",
      "source": [
        "# Ejemplo 9 - Eliminar los dados desconocidos en una serie de datos con Pandas"
      ],
      "metadata": {
        "id": "f-6xnFzHgHZK"
      }
    },
    {
      "cell_type": "code",
      "source": [
        "import pandas as pd\n",
        "import numpy as np\n",
        "print('Item Total venta')\n",
        "s = pd.Series(['Enero','Febrero',None,'Marzo',np.NaN,'Abril',None])\n",
        "s.dropna()\n"
      ],
      "metadata": {
        "colab": {
          "base_uri": "https://localhost:8080/"
        },
        "id": "SSkbFad8gPzj",
        "outputId": "573fba2f-2ba8-4ddb-f4b9-e37ede6635c3"
      },
      "execution_count": 31,
      "outputs": [
        {
          "output_type": "stream",
          "name": "stdout",
          "text": [
            "Item Total venta\n"
          ]
        },
        {
          "output_type": "execute_result",
          "data": {
            "text/plain": [
              "0      Enero\n",
              "1    Febrero\n",
              "3      Marzo\n",
              "5      Abril\n",
              "dtype: object"
            ]
          },
          "metadata": {},
          "execution_count": 31
        }
      ]
    },
    {
      "cell_type": "markdown",
      "source": [
        "# Ejemplo 10 - Utilizar estructura repetitiva FOR con una seria de datos con pandas"
      ],
      "metadata": {
        "id": "EFLJtEzdl9sC"
      }
    },
    {
      "cell_type": "code",
      "source": [
        "import pandas as pd\n",
        "inicio = int(input('Introduce el año inicial: '))\n",
        "fin = int(input('Introduce el año final: '))\n",
        "ventas = {}\n",
        "for i in range(inicio, fin+1):\n",
        "    ventas[i] = float(input('Introduce las ventas del año ' + str(i) +': '))\n",
        "ventas = pd.Series(ventas)\n",
        "print('Ventas\\n', ventas)\n",
        "print('Ventas con descuento\\n', ventas*0.9)"
      ],
      "metadata": {
        "colab": {
          "base_uri": "https://localhost:8080/"
        },
        "id": "gkvhdROMl_eR",
        "outputId": "71ca5fb0-5799-4aa5-80c8-ec0a01f4223f"
      },
      "execution_count": 32,
      "outputs": [
        {
          "output_type": "stream",
          "name": "stdout",
          "text": [
            "Introduce el año inicial: 2020\n",
            "Introduce el año final: 2023\n",
            "Introduce las ventas del año 2020: 100\n",
            "Introduce las ventas del año 2021: 200\n",
            "Introduce las ventas del año 2022: 300\n",
            "Introduce las ventas del año 2023: 400\n",
            "Ventas\n",
            " 2020    100.0\n",
            "2021    200.0\n",
            "2022    300.0\n",
            "2023    400.0\n",
            "dtype: float64\n",
            "Ventas con descuento\n",
            " 2020     90.0\n",
            "2021    180.0\n",
            "2022    270.0\n",
            "2023    360.0\n",
            "dtype: float64\n"
          ]
        }
      ]
    },
    {
      "cell_type": "markdown",
      "source": [
        "# Ejemplo 11 - Serie de datos con datos estadísticos"
      ],
      "metadata": {
        "id": "ACTD0FZHn931"
      }
    },
    {
      "cell_type": "code",
      "source": [
        "import pandas as pd\n",
        "def estadistica_ventas(ventas):\n",
        "    v = pd.Series(ventas)\n",
        "    estadisticos = pd.Series([v.min(), v.max(), v.mean(), v.std()], index=['Min', 'Max', 'Media', 'Desviación Estandar o típica'])\n",
        "    return estadisticos\n",
        "ventas ={'Juan':900, 'María':650, 'Pedro':400, 'Carmen': 850, 'Luis': 500}\n",
        "print('Resultado 1')\n",
        "print(estadistica_ventas(ventas))\n",
        "print('\\n')\n",
        "print('Resultado 2')\n",
        "import pandas as pd\n",
        "def estadistica_ventas2(ventas):\n",
        "    v2 = pd.Series(ventas)\n",
        "    return v2.describe()\n",
        "\n",
        "ventas ={'Juan':900, 'María':650, 'Pedro':400, 'Carmen': 850, 'Luis': 500}\n",
        "print(estadistica_ventas2(ventas))\n"
      ],
      "metadata": {
        "colab": {
          "base_uri": "https://localhost:8080/"
        },
        "id": "jfPe2TPkoEip",
        "outputId": "805f1785-1280-418d-aa18-23b5784dff15"
      },
      "execution_count": 34,
      "outputs": [
        {
          "output_type": "stream",
          "name": "stdout",
          "text": [
            "Resultado 1\n",
            "Min                             400.000000\n",
            "Max                             900.000000\n",
            "Media                           660.000000\n",
            "Desviación Estandar o típica    216.217483\n",
            "dtype: float64\n",
            "\n",
            "\n",
            "Resultado 2\n",
            "count      5.000000\n",
            "mean     660.000000\n",
            "std      216.217483\n",
            "min      400.000000\n",
            "25%      500.000000\n",
            "50%      650.000000\n",
            "75%      850.000000\n",
            "max      900.000000\n",
            "dtype: float64\n"
          ]
        }
      ]
    },
    {
      "cell_type": "markdown",
      "source": [
        "# Ejemplo 12 - Pandas con Serie de datos con funciones de ordenamiento de datos"
      ],
      "metadata": {
        "id": "JF3Yrk9WsZQx"
      }
    },
    {
      "cell_type": "code",
      "source": [
        "import pandas as pd\n",
        "\n",
        "def ventasfiltro(ventas):\n",
        "    v3 = pd.Series(ventas)\n",
        "    return v3[v3 >= 500].sort_values(ascending=False)\n",
        "\n",
        "ventas = {'Juan':300, 'María':650, 'Pedro':400, 'Carmen': 850, 'Luis': 700}\n",
        "print(ventasfiltro(ventas))"
      ],
      "metadata": {
        "colab": {
          "base_uri": "https://localhost:8080/"
        },
        "id": "amjumyKdseLW",
        "outputId": "2155afce-39ea-4704-cb38-ce9661894599"
      },
      "execution_count": 35,
      "outputs": [
        {
          "output_type": "stream",
          "name": "stdout",
          "text": [
            "Carmen    850\n",
            "Luis      700\n",
            "María     650\n",
            "dtype: int64\n"
          ]
        }
      ]
    },
    {
      "cell_type": "markdown",
      "source": [
        "# Ejemplo 13 - DataFrame a partir de un diccionario de listas - 1"
      ],
      "metadata": {
        "id": "9czRB6FYDc-N"
      }
    },
    {
      "cell_type": "code",
      "source": [
        "import pandas as pd\n",
        "df=pd.DataFrame({'números':[1,2,3,4,5],'letras':['a','b','c','d','e']})\n",
        "print(df)\n",
        "print('Propiedades del Dataframe')\n",
        "print('dimensión de la matriz:',df.shape)\n",
        "print(\"Cantidad de elemento:\",str(df.size))\n"
      ],
      "metadata": {
        "colab": {
          "base_uri": "https://localhost:8080/"
        },
        "id": "7TdsvXVeGFM0",
        "outputId": "e36e7472-8257-48a6-cd13-0bf721d840aa"
      },
      "execution_count": 38,
      "outputs": [
        {
          "output_type": "stream",
          "name": "stdout",
          "text": [
            "   números letras\n",
            "0        1      a\n",
            "1        2      b\n",
            "2        3      c\n",
            "3        4      d\n",
            "4        5      e\n",
            "Propiedades del Dataframe\n",
            "dimensión de la matriz: (5, 2)\n",
            "Cantidad de elemento: 10\n"
          ]
        }
      ]
    },
    {
      "cell_type": "markdown",
      "source": [
        "# Ejemplo 14 - DataFrame a partir de un diccionario de listas - 2"
      ],
      "metadata": {
        "id": "2NKZkGQ_eecM"
      }
    },
    {
      "cell_type": "code",
      "source": [
        "#DataFrame(data =listas, index = filas, columns = columnas, dtype=tipos)\n",
        "import pandas as pd\n",
        "lst = [['Juan','Enero',100],['Carla','Febrero',200],['Judith','Marzo',300],['Julio','Abril',400]]\n",
        "df = pd.DataFrame(lst,index = ['1', '2', '3','4'],columns=['vendedor','mes','total'])\n",
        "df"
      ],
      "metadata": {
        "colab": {
          "base_uri": "https://localhost:8080/",
          "height": 175
        },
        "id": "6xBn8X1hek2w",
        "outputId": "146dda44-19fe-406c-d6b9-50ab9372db1e"
      },
      "execution_count": 41,
      "outputs": [
        {
          "output_type": "execute_result",
          "data": {
            "text/plain": [
              "  vendedor      mes  total\n",
              "1     Juan    Enero    100\n",
              "2    Carla  Febrero    200\n",
              "3   Judith    Marzo    300\n",
              "4    Julio    Abril    400"
            ],
            "text/html": [
              "\n",
              "  <div id=\"df-1069d488-e0a8-4b0b-a486-cf170c7b6497\" class=\"colab-df-container\">\n",
              "    <div>\n",
              "<style scoped>\n",
              "    .dataframe tbody tr th:only-of-type {\n",
              "        vertical-align: middle;\n",
              "    }\n",
              "\n",
              "    .dataframe tbody tr th {\n",
              "        vertical-align: top;\n",
              "    }\n",
              "\n",
              "    .dataframe thead th {\n",
              "        text-align: right;\n",
              "    }\n",
              "</style>\n",
              "<table border=\"1\" class=\"dataframe\">\n",
              "  <thead>\n",
              "    <tr style=\"text-align: right;\">\n",
              "      <th></th>\n",
              "      <th>vendedor</th>\n",
              "      <th>mes</th>\n",
              "      <th>total</th>\n",
              "    </tr>\n",
              "  </thead>\n",
              "  <tbody>\n",
              "    <tr>\n",
              "      <th>1</th>\n",
              "      <td>Juan</td>\n",
              "      <td>Enero</td>\n",
              "      <td>100</td>\n",
              "    </tr>\n",
              "    <tr>\n",
              "      <th>2</th>\n",
              "      <td>Carla</td>\n",
              "      <td>Febrero</td>\n",
              "      <td>200</td>\n",
              "    </tr>\n",
              "    <tr>\n",
              "      <th>3</th>\n",
              "      <td>Judith</td>\n",
              "      <td>Marzo</td>\n",
              "      <td>300</td>\n",
              "    </tr>\n",
              "    <tr>\n",
              "      <th>4</th>\n",
              "      <td>Julio</td>\n",
              "      <td>Abril</td>\n",
              "      <td>400</td>\n",
              "    </tr>\n",
              "  </tbody>\n",
              "</table>\n",
              "</div>\n",
              "    <div class=\"colab-df-buttons\">\n",
              "\n",
              "  <div class=\"colab-df-container\">\n",
              "    <button class=\"colab-df-convert\" onclick=\"convertToInteractive('df-1069d488-e0a8-4b0b-a486-cf170c7b6497')\"\n",
              "            title=\"Convert this dataframe to an interactive table.\"\n",
              "            style=\"display:none;\">\n",
              "\n",
              "  <svg xmlns=\"http://www.w3.org/2000/svg\" height=\"24px\" viewBox=\"0 -960 960 960\">\n",
              "    <path d=\"M120-120v-720h720v720H120Zm60-500h600v-160H180v160Zm220 220h160v-160H400v160Zm0 220h160v-160H400v160ZM180-400h160v-160H180v160Zm440 0h160v-160H620v160ZM180-180h160v-160H180v160Zm440 0h160v-160H620v160Z\"/>\n",
              "  </svg>\n",
              "    </button>\n",
              "\n",
              "  <style>\n",
              "    .colab-df-container {\n",
              "      display:flex;\n",
              "      gap: 12px;\n",
              "    }\n",
              "\n",
              "    .colab-df-convert {\n",
              "      background-color: #E8F0FE;\n",
              "      border: none;\n",
              "      border-radius: 50%;\n",
              "      cursor: pointer;\n",
              "      display: none;\n",
              "      fill: #1967D2;\n",
              "      height: 32px;\n",
              "      padding: 0 0 0 0;\n",
              "      width: 32px;\n",
              "    }\n",
              "\n",
              "    .colab-df-convert:hover {\n",
              "      background-color: #E2EBFA;\n",
              "      box-shadow: 0px 1px 2px rgba(60, 64, 67, 0.3), 0px 1px 3px 1px rgba(60, 64, 67, 0.15);\n",
              "      fill: #174EA6;\n",
              "    }\n",
              "\n",
              "    .colab-df-buttons div {\n",
              "      margin-bottom: 4px;\n",
              "    }\n",
              "\n",
              "    [theme=dark] .colab-df-convert {\n",
              "      background-color: #3B4455;\n",
              "      fill: #D2E3FC;\n",
              "    }\n",
              "\n",
              "    [theme=dark] .colab-df-convert:hover {\n",
              "      background-color: #434B5C;\n",
              "      box-shadow: 0px 1px 3px 1px rgba(0, 0, 0, 0.15);\n",
              "      filter: drop-shadow(0px 1px 2px rgba(0, 0, 0, 0.3));\n",
              "      fill: #FFFFFF;\n",
              "    }\n",
              "  </style>\n",
              "\n",
              "    <script>\n",
              "      const buttonEl =\n",
              "        document.querySelector('#df-1069d488-e0a8-4b0b-a486-cf170c7b6497 button.colab-df-convert');\n",
              "      buttonEl.style.display =\n",
              "        google.colab.kernel.accessAllowed ? 'block' : 'none';\n",
              "\n",
              "      async function convertToInteractive(key) {\n",
              "        const element = document.querySelector('#df-1069d488-e0a8-4b0b-a486-cf170c7b6497');\n",
              "        const dataTable =\n",
              "          await google.colab.kernel.invokeFunction('convertToInteractive',\n",
              "                                                    [key], {});\n",
              "        if (!dataTable) return;\n",
              "\n",
              "        const docLinkHtml = 'Like what you see? Visit the ' +\n",
              "          '<a target=\"_blank\" href=https://colab.research.google.com/notebooks/data_table.ipynb>data table notebook</a>'\n",
              "          + ' to learn more about interactive tables.';\n",
              "        element.innerHTML = '';\n",
              "        dataTable['output_type'] = 'display_data';\n",
              "        await google.colab.output.renderOutput(dataTable, element);\n",
              "        const docLink = document.createElement('div');\n",
              "        docLink.innerHTML = docLinkHtml;\n",
              "        element.appendChild(docLink);\n",
              "      }\n",
              "    </script>\n",
              "  </div>\n",
              "\n",
              "\n",
              "<div id=\"df-760bc77c-3c76-47f9-89e8-e24de71e130f\">\n",
              "  <button class=\"colab-df-quickchart\" onclick=\"quickchart('df-760bc77c-3c76-47f9-89e8-e24de71e130f')\"\n",
              "            title=\"Suggest charts\"\n",
              "            style=\"display:none;\">\n",
              "\n",
              "<svg xmlns=\"http://www.w3.org/2000/svg\" height=\"24px\"viewBox=\"0 0 24 24\"\n",
              "     width=\"24px\">\n",
              "    <g>\n",
              "        <path d=\"M19 3H5c-1.1 0-2 .9-2 2v14c0 1.1.9 2 2 2h14c1.1 0 2-.9 2-2V5c0-1.1-.9-2-2-2zM9 17H7v-7h2v7zm4 0h-2V7h2v10zm4 0h-2v-4h2v4z\"/>\n",
              "    </g>\n",
              "</svg>\n",
              "  </button>\n",
              "\n",
              "<style>\n",
              "  .colab-df-quickchart {\n",
              "      --bg-color: #E8F0FE;\n",
              "      --fill-color: #1967D2;\n",
              "      --hover-bg-color: #E2EBFA;\n",
              "      --hover-fill-color: #174EA6;\n",
              "      --disabled-fill-color: #AAA;\n",
              "      --disabled-bg-color: #DDD;\n",
              "  }\n",
              "\n",
              "  [theme=dark] .colab-df-quickchart {\n",
              "      --bg-color: #3B4455;\n",
              "      --fill-color: #D2E3FC;\n",
              "      --hover-bg-color: #434B5C;\n",
              "      --hover-fill-color: #FFFFFF;\n",
              "      --disabled-bg-color: #3B4455;\n",
              "      --disabled-fill-color: #666;\n",
              "  }\n",
              "\n",
              "  .colab-df-quickchart {\n",
              "    background-color: var(--bg-color);\n",
              "    border: none;\n",
              "    border-radius: 50%;\n",
              "    cursor: pointer;\n",
              "    display: none;\n",
              "    fill: var(--fill-color);\n",
              "    height: 32px;\n",
              "    padding: 0;\n",
              "    width: 32px;\n",
              "  }\n",
              "\n",
              "  .colab-df-quickchart:hover {\n",
              "    background-color: var(--hover-bg-color);\n",
              "    box-shadow: 0 1px 2px rgba(60, 64, 67, 0.3), 0 1px 3px 1px rgba(60, 64, 67, 0.15);\n",
              "    fill: var(--button-hover-fill-color);\n",
              "  }\n",
              "\n",
              "  .colab-df-quickchart-complete:disabled,\n",
              "  .colab-df-quickchart-complete:disabled:hover {\n",
              "    background-color: var(--disabled-bg-color);\n",
              "    fill: var(--disabled-fill-color);\n",
              "    box-shadow: none;\n",
              "  }\n",
              "\n",
              "  .colab-df-spinner {\n",
              "    border: 2px solid var(--fill-color);\n",
              "    border-color: transparent;\n",
              "    border-bottom-color: var(--fill-color);\n",
              "    animation:\n",
              "      spin 1s steps(1) infinite;\n",
              "  }\n",
              "\n",
              "  @keyframes spin {\n",
              "    0% {\n",
              "      border-color: transparent;\n",
              "      border-bottom-color: var(--fill-color);\n",
              "      border-left-color: var(--fill-color);\n",
              "    }\n",
              "    20% {\n",
              "      border-color: transparent;\n",
              "      border-left-color: var(--fill-color);\n",
              "      border-top-color: var(--fill-color);\n",
              "    }\n",
              "    30% {\n",
              "      border-color: transparent;\n",
              "      border-left-color: var(--fill-color);\n",
              "      border-top-color: var(--fill-color);\n",
              "      border-right-color: var(--fill-color);\n",
              "    }\n",
              "    40% {\n",
              "      border-color: transparent;\n",
              "      border-right-color: var(--fill-color);\n",
              "      border-top-color: var(--fill-color);\n",
              "    }\n",
              "    60% {\n",
              "      border-color: transparent;\n",
              "      border-right-color: var(--fill-color);\n",
              "    }\n",
              "    80% {\n",
              "      border-color: transparent;\n",
              "      border-right-color: var(--fill-color);\n",
              "      border-bottom-color: var(--fill-color);\n",
              "    }\n",
              "    90% {\n",
              "      border-color: transparent;\n",
              "      border-bottom-color: var(--fill-color);\n",
              "    }\n",
              "  }\n",
              "</style>\n",
              "\n",
              "  <script>\n",
              "    async function quickchart(key) {\n",
              "      const quickchartButtonEl =\n",
              "        document.querySelector('#' + key + ' button');\n",
              "      quickchartButtonEl.disabled = true;  // To prevent multiple clicks.\n",
              "      quickchartButtonEl.classList.add('colab-df-spinner');\n",
              "      try {\n",
              "        const charts = await google.colab.kernel.invokeFunction(\n",
              "            'suggestCharts', [key], {});\n",
              "      } catch (error) {\n",
              "        console.error('Error during call to suggestCharts:', error);\n",
              "      }\n",
              "      quickchartButtonEl.classList.remove('colab-df-spinner');\n",
              "      quickchartButtonEl.classList.add('colab-df-quickchart-complete');\n",
              "    }\n",
              "    (() => {\n",
              "      let quickchartButtonEl =\n",
              "        document.querySelector('#df-760bc77c-3c76-47f9-89e8-e24de71e130f button');\n",
              "      quickchartButtonEl.style.display =\n",
              "        google.colab.kernel.accessAllowed ? 'block' : 'none';\n",
              "    })();\n",
              "  </script>\n",
              "</div>\n",
              "    </div>\n",
              "  </div>\n"
            ]
          },
          "metadata": {},
          "execution_count": 41
        }
      ]
    },
    {
      "cell_type": "markdown",
      "source": [
        "# Ejemplo 15 - Dataframe de datos de un diccionario de datos"
      ],
      "metadata": {
        "id": "caePqbe2U3Xs"
      }
    },
    {
      "cell_type": "code",
      "source": [
        "import pandas as pd\n",
        "d = {'vendedor':['Juan','Carla','Judith'],\n",
        "    'mes':[\"Abril\",\"Mayo\",\"Junio\"],\n",
        "    'total': [500, 400, 600]}\n",
        "df = pd.DataFrame(d, index = ['id1', 'id2', 'id3'])\n",
        "df"
      ],
      "metadata": {
        "colab": {
          "base_uri": "https://localhost:8080/",
          "height": 143
        },
        "outputId": "5acccf80-068c-48a0-8868-a6b3ec48652f",
        "id": "7-b-gf79U3Xt"
      },
      "execution_count": 42,
      "outputs": [
        {
          "output_type": "execute_result",
          "data": {
            "text/plain": [
              "    vendedor    mes  total\n",
              "id1     Juan  Abril    500\n",
              "id2    Carla   Mayo    400\n",
              "id3   Judith  Junio    600"
            ],
            "text/html": [
              "\n",
              "  <div id=\"df-69209f8e-c561-4a8b-ab5d-13097239ad20\" class=\"colab-df-container\">\n",
              "    <div>\n",
              "<style scoped>\n",
              "    .dataframe tbody tr th:only-of-type {\n",
              "        vertical-align: middle;\n",
              "    }\n",
              "\n",
              "    .dataframe tbody tr th {\n",
              "        vertical-align: top;\n",
              "    }\n",
              "\n",
              "    .dataframe thead th {\n",
              "        text-align: right;\n",
              "    }\n",
              "</style>\n",
              "<table border=\"1\" class=\"dataframe\">\n",
              "  <thead>\n",
              "    <tr style=\"text-align: right;\">\n",
              "      <th></th>\n",
              "      <th>vendedor</th>\n",
              "      <th>mes</th>\n",
              "      <th>total</th>\n",
              "    </tr>\n",
              "  </thead>\n",
              "  <tbody>\n",
              "    <tr>\n",
              "      <th>id1</th>\n",
              "      <td>Juan</td>\n",
              "      <td>Abril</td>\n",
              "      <td>500</td>\n",
              "    </tr>\n",
              "    <tr>\n",
              "      <th>id2</th>\n",
              "      <td>Carla</td>\n",
              "      <td>Mayo</td>\n",
              "      <td>400</td>\n",
              "    </tr>\n",
              "    <tr>\n",
              "      <th>id3</th>\n",
              "      <td>Judith</td>\n",
              "      <td>Junio</td>\n",
              "      <td>600</td>\n",
              "    </tr>\n",
              "  </tbody>\n",
              "</table>\n",
              "</div>\n",
              "    <div class=\"colab-df-buttons\">\n",
              "\n",
              "  <div class=\"colab-df-container\">\n",
              "    <button class=\"colab-df-convert\" onclick=\"convertToInteractive('df-69209f8e-c561-4a8b-ab5d-13097239ad20')\"\n",
              "            title=\"Convert this dataframe to an interactive table.\"\n",
              "            style=\"display:none;\">\n",
              "\n",
              "  <svg xmlns=\"http://www.w3.org/2000/svg\" height=\"24px\" viewBox=\"0 -960 960 960\">\n",
              "    <path d=\"M120-120v-720h720v720H120Zm60-500h600v-160H180v160Zm220 220h160v-160H400v160Zm0 220h160v-160H400v160ZM180-400h160v-160H180v160Zm440 0h160v-160H620v160ZM180-180h160v-160H180v160Zm440 0h160v-160H620v160Z\"/>\n",
              "  </svg>\n",
              "    </button>\n",
              "\n",
              "  <style>\n",
              "    .colab-df-container {\n",
              "      display:flex;\n",
              "      gap: 12px;\n",
              "    }\n",
              "\n",
              "    .colab-df-convert {\n",
              "      background-color: #E8F0FE;\n",
              "      border: none;\n",
              "      border-radius: 50%;\n",
              "      cursor: pointer;\n",
              "      display: none;\n",
              "      fill: #1967D2;\n",
              "      height: 32px;\n",
              "      padding: 0 0 0 0;\n",
              "      width: 32px;\n",
              "    }\n",
              "\n",
              "    .colab-df-convert:hover {\n",
              "      background-color: #E2EBFA;\n",
              "      box-shadow: 0px 1px 2px rgba(60, 64, 67, 0.3), 0px 1px 3px 1px rgba(60, 64, 67, 0.15);\n",
              "      fill: #174EA6;\n",
              "    }\n",
              "\n",
              "    .colab-df-buttons div {\n",
              "      margin-bottom: 4px;\n",
              "    }\n",
              "\n",
              "    [theme=dark] .colab-df-convert {\n",
              "      background-color: #3B4455;\n",
              "      fill: #D2E3FC;\n",
              "    }\n",
              "\n",
              "    [theme=dark] .colab-df-convert:hover {\n",
              "      background-color: #434B5C;\n",
              "      box-shadow: 0px 1px 3px 1px rgba(0, 0, 0, 0.15);\n",
              "      filter: drop-shadow(0px 1px 2px rgba(0, 0, 0, 0.3));\n",
              "      fill: #FFFFFF;\n",
              "    }\n",
              "  </style>\n",
              "\n",
              "    <script>\n",
              "      const buttonEl =\n",
              "        document.querySelector('#df-69209f8e-c561-4a8b-ab5d-13097239ad20 button.colab-df-convert');\n",
              "      buttonEl.style.display =\n",
              "        google.colab.kernel.accessAllowed ? 'block' : 'none';\n",
              "\n",
              "      async function convertToInteractive(key) {\n",
              "        const element = document.querySelector('#df-69209f8e-c561-4a8b-ab5d-13097239ad20');\n",
              "        const dataTable =\n",
              "          await google.colab.kernel.invokeFunction('convertToInteractive',\n",
              "                                                    [key], {});\n",
              "        if (!dataTable) return;\n",
              "\n",
              "        const docLinkHtml = 'Like what you see? Visit the ' +\n",
              "          '<a target=\"_blank\" href=https://colab.research.google.com/notebooks/data_table.ipynb>data table notebook</a>'\n",
              "          + ' to learn more about interactive tables.';\n",
              "        element.innerHTML = '';\n",
              "        dataTable['output_type'] = 'display_data';\n",
              "        await google.colab.output.renderOutput(dataTable, element);\n",
              "        const docLink = document.createElement('div');\n",
              "        docLink.innerHTML = docLinkHtml;\n",
              "        element.appendChild(docLink);\n",
              "      }\n",
              "    </script>\n",
              "  </div>\n",
              "\n",
              "\n",
              "<div id=\"df-9549189e-d59a-497c-903f-e5db17dac452\">\n",
              "  <button class=\"colab-df-quickchart\" onclick=\"quickchart('df-9549189e-d59a-497c-903f-e5db17dac452')\"\n",
              "            title=\"Suggest charts\"\n",
              "            style=\"display:none;\">\n",
              "\n",
              "<svg xmlns=\"http://www.w3.org/2000/svg\" height=\"24px\"viewBox=\"0 0 24 24\"\n",
              "     width=\"24px\">\n",
              "    <g>\n",
              "        <path d=\"M19 3H5c-1.1 0-2 .9-2 2v14c0 1.1.9 2 2 2h14c1.1 0 2-.9 2-2V5c0-1.1-.9-2-2-2zM9 17H7v-7h2v7zm4 0h-2V7h2v10zm4 0h-2v-4h2v4z\"/>\n",
              "    </g>\n",
              "</svg>\n",
              "  </button>\n",
              "\n",
              "<style>\n",
              "  .colab-df-quickchart {\n",
              "      --bg-color: #E8F0FE;\n",
              "      --fill-color: #1967D2;\n",
              "      --hover-bg-color: #E2EBFA;\n",
              "      --hover-fill-color: #174EA6;\n",
              "      --disabled-fill-color: #AAA;\n",
              "      --disabled-bg-color: #DDD;\n",
              "  }\n",
              "\n",
              "  [theme=dark] .colab-df-quickchart {\n",
              "      --bg-color: #3B4455;\n",
              "      --fill-color: #D2E3FC;\n",
              "      --hover-bg-color: #434B5C;\n",
              "      --hover-fill-color: #FFFFFF;\n",
              "      --disabled-bg-color: #3B4455;\n",
              "      --disabled-fill-color: #666;\n",
              "  }\n",
              "\n",
              "  .colab-df-quickchart {\n",
              "    background-color: var(--bg-color);\n",
              "    border: none;\n",
              "    border-radius: 50%;\n",
              "    cursor: pointer;\n",
              "    display: none;\n",
              "    fill: var(--fill-color);\n",
              "    height: 32px;\n",
              "    padding: 0;\n",
              "    width: 32px;\n",
              "  }\n",
              "\n",
              "  .colab-df-quickchart:hover {\n",
              "    background-color: var(--hover-bg-color);\n",
              "    box-shadow: 0 1px 2px rgba(60, 64, 67, 0.3), 0 1px 3px 1px rgba(60, 64, 67, 0.15);\n",
              "    fill: var(--button-hover-fill-color);\n",
              "  }\n",
              "\n",
              "  .colab-df-quickchart-complete:disabled,\n",
              "  .colab-df-quickchart-complete:disabled:hover {\n",
              "    background-color: var(--disabled-bg-color);\n",
              "    fill: var(--disabled-fill-color);\n",
              "    box-shadow: none;\n",
              "  }\n",
              "\n",
              "  .colab-df-spinner {\n",
              "    border: 2px solid var(--fill-color);\n",
              "    border-color: transparent;\n",
              "    border-bottom-color: var(--fill-color);\n",
              "    animation:\n",
              "      spin 1s steps(1) infinite;\n",
              "  }\n",
              "\n",
              "  @keyframes spin {\n",
              "    0% {\n",
              "      border-color: transparent;\n",
              "      border-bottom-color: var(--fill-color);\n",
              "      border-left-color: var(--fill-color);\n",
              "    }\n",
              "    20% {\n",
              "      border-color: transparent;\n",
              "      border-left-color: var(--fill-color);\n",
              "      border-top-color: var(--fill-color);\n",
              "    }\n",
              "    30% {\n",
              "      border-color: transparent;\n",
              "      border-left-color: var(--fill-color);\n",
              "      border-top-color: var(--fill-color);\n",
              "      border-right-color: var(--fill-color);\n",
              "    }\n",
              "    40% {\n",
              "      border-color: transparent;\n",
              "      border-right-color: var(--fill-color);\n",
              "      border-top-color: var(--fill-color);\n",
              "    }\n",
              "    60% {\n",
              "      border-color: transparent;\n",
              "      border-right-color: var(--fill-color);\n",
              "    }\n",
              "    80% {\n",
              "      border-color: transparent;\n",
              "      border-right-color: var(--fill-color);\n",
              "      border-bottom-color: var(--fill-color);\n",
              "    }\n",
              "    90% {\n",
              "      border-color: transparent;\n",
              "      border-bottom-color: var(--fill-color);\n",
              "    }\n",
              "  }\n",
              "</style>\n",
              "\n",
              "  <script>\n",
              "    async function quickchart(key) {\n",
              "      const quickchartButtonEl =\n",
              "        document.querySelector('#' + key + ' button');\n",
              "      quickchartButtonEl.disabled = true;  // To prevent multiple clicks.\n",
              "      quickchartButtonEl.classList.add('colab-df-spinner');\n",
              "      try {\n",
              "        const charts = await google.colab.kernel.invokeFunction(\n",
              "            'suggestCharts', [key], {});\n",
              "      } catch (error) {\n",
              "        console.error('Error during call to suggestCharts:', error);\n",
              "      }\n",
              "      quickchartButtonEl.classList.remove('colab-df-spinner');\n",
              "      quickchartButtonEl.classList.add('colab-df-quickchart-complete');\n",
              "    }\n",
              "    (() => {\n",
              "      let quickchartButtonEl =\n",
              "        document.querySelector('#df-9549189e-d59a-497c-903f-e5db17dac452 button');\n",
              "      quickchartButtonEl.style.display =\n",
              "        google.colab.kernel.accessAllowed ? 'block' : 'none';\n",
              "    })();\n",
              "  </script>\n",
              "</div>\n",
              "    </div>\n",
              "  </div>\n"
            ]
          },
          "metadata": {},
          "execution_count": 42
        }
      ]
    },
    {
      "cell_type": "markdown",
      "source": [
        "# Ejemplo 16 - Crear un arreglo y matriz de datos con la librería numpy"
      ],
      "metadata": {
        "id": "eNwSs9elC4lW"
      }
    },
    {
      "cell_type": "code",
      "source": [
        "import numpy as np\n",
        "#arreglo de datos\n",
        "print(\"Arreglo de datos\")\n",
        "arreglo=np.array([1,2,3])\n",
        "print(arreglo)\n",
        "print(\"Matriz de datos\")\n",
        "#matriz de datos\n",
        "matriz=np.array([[4,5,6],[7,8,9]])\n",
        "print(matriz)"
      ],
      "metadata": {
        "colab": {
          "base_uri": "https://localhost:8080/"
        },
        "id": "dEV709yguCmF",
        "outputId": "5c466a0e-9bb6-42d2-98cd-fdcd03a0ea24"
      },
      "execution_count": 43,
      "outputs": [
        {
          "output_type": "stream",
          "name": "stdout",
          "text": [
            "Arreglo de datos\n",
            "[1 2 3]\n",
            "Matriz de datos\n",
            "[[4 5 6]\n",
            " [7 8 9]]\n"
          ]
        }
      ]
    },
    {
      "cell_type": "markdown",
      "source": [
        "# Ejmeplo 17 - Operaciones con los arreglos y matrices con la librería Numpy"
      ],
      "metadata": {
        "id": "DDvmnNQBuGu2"
      }
    },
    {
      "cell_type": "code",
      "source": [
        "import numpy as np # Importamos numpy como el alias np\n",
        "a = np.array([[1, 2, 3], [4, 5, 6]])\n",
        "b = np.array([[1, 1, 1], [2, 2, 2]])\n",
        "print('suma de elementos')\n",
        "print(a + b )\n",
        "#división de elementos\n",
        "print('división de elementos')\n",
        "print(a / b)\n",
        "#producto de lo elementos\n",
        "print('producto de elementos')\n",
        "print(a ** 2)"
      ],
      "metadata": {
        "id": "NxJukSVsuUcv",
        "colab": {
          "base_uri": "https://localhost:8080/"
        },
        "outputId": "b7246cd8-4bc6-42b2-d007-32adb867cb42"
      },
      "execution_count": 44,
      "outputs": [
        {
          "output_type": "stream",
          "name": "stdout",
          "text": [
            "suma de elementos\n",
            "[[2 3 4]\n",
            " [6 7 8]]\n",
            "división de elementos\n",
            "[[1.  2.  3. ]\n",
            " [2.  2.5 3. ]]\n",
            "producto de elementos\n",
            "[[ 1  4  9]\n",
            " [16 25 36]]\n"
          ]
        }
      ]
    }
  ]
}