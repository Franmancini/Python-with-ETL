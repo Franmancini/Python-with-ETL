{
 "cells": [
  {
   "cell_type": "markdown",
   "id": "859e8a30",
   "metadata": {
    "id": "859e8a30"
   },
   "source": [
    "# EJERCICIOS PYTHON ACT GRUPAL 3 GRUPO 1"
   ]
  },
  {
   "cell_type": "code",
   "execution_count": 1,
   "id": "16c1b992",
   "metadata": {
    "id": "16c1b992",
    "outputId": "1258f6fb-c793-4cf6-a3c1-70d1ab984357"
   },
   "outputs": [
    {
     "name": "stdout",
     "output_type": "stream",
     "text": [
      "ingresar numero 1:7\n",
      "ingresar numero 2:21\n",
      "la suma de los numeros es 28\n",
      "la resta de los numeros es -14\n",
      "la multiplicación de los numeros es 147\n",
      "la división de los numeros es 0.3333333333333333\n"
     ]
    }
   ],
   "source": [
    "#ejercicio numero 1\n",
    "n1=int(input(\"ingresar numero 1:\"))\n",
    "n2=int(input(\"ingresar numero 2:\"))\n",
    "s=n1+n2\n",
    "r=n1-n2\n",
    "m=n1*n2\n",
    "d=n1/n2\n",
    "print(\"la suma de los numeros es\",s)\n",
    "print(\"la resta de los numeros es\",r)\n",
    "print(\"la multiplicación de los numeros es\",m)\n",
    "print(\"la división de los numeros es\",d)"
   ]
  },
  {
   "cell_type": "code",
   "execution_count": 2,
   "id": "bb5ed119",
   "metadata": {
    "id": "bb5ed119",
    "outputId": "c2af652c-2775-48d4-9c8f-00ffa7cb781e"
   },
   "outputs": [
    {
     "name": "stdout",
     "output_type": "stream",
     "text": [
      "Ingresar cantidad: 24\n",
      "la suma de los digitos es: 6\n"
     ]
    }
   ],
   "source": [
    "#ejercicio 2\n",
    "cant=int(input(\"Ingresar cantidad: \"))\n",
    "d1=int(cant/10)\n",
    "d2=cant%10\n",
    "su=d1+d2\n",
    "print(\"la suma de los digitos es:\",su)"
   ]
  },
  {
   "cell_type": "code",
   "execution_count": 3,
   "id": "419805f7",
   "metadata": {
    "id": "419805f7",
    "outputId": "8ce85969-7783-44f2-d1f4-e2b36f43b2d4"
   },
   "outputs": [
    {
     "name": "stdout",
     "output_type": "stream",
     "text": [
      "ingresar venta 1: 560\n",
      "ingresar venta 2: 230\n",
      "ingresar venta 3: 145\n",
      "el total de las ventas es:  935\n",
      "el promedio de las ventas es:  311.6666666666667\n",
      "la venta mayor es:  560\n",
      "puntos de venta:  20\n",
      "estado de ventas:  Excelente\n"
     ]
    }
   ],
   "source": [
    "#ejercicio 3\n",
    "v1=int(input(\"ingresar venta 1: \"))\n",
    "v2=int(input(\"ingresar venta 2: \"))\n",
    "v3=int(input(\"ingresar venta 3: \"))\n",
    "total=v1+v2+v3\n",
    "prom=total/3\n",
    "venta_mayor=max(v1,v2,v3)\n",
    "puntos = 0\n",
    "if total >= 360:\n",
    "    puntos = 20\n",
    "elif total < 280:\n",
    "    puntos = 15\n",
    "estado = \"Regular\"\n",
    "if total > 500:\n",
    "    estado = \"Excelente\"\n",
    "elif total > 800:\n",
    "    estado = \"Bueno\"\n",
    "print(\"el total de las ventas es: \",total)\n",
    "print(\"el promedio de las ventas es: \",prom)\n",
    "print(\"la venta mayor es: \",venta_mayor)\n",
    "print(\"puntos de venta: \",puntos)\n",
    "print(\"estado de ventas: \",estado)"
   ]
  },
  {
   "cell_type": "code",
   "execution_count": 4,
   "id": "5a6b48a6",
   "metadata": {
    "id": "68526054"
   },
   "outputs": [
    {
     "name": "stdout",
     "output_type": "stream",
     "text": [
      "ingresar numero del 1 al 12 5\n",
      "Mayo\n"
     ]
    }
   ],
   "source": [
    "#ejercicio 4\n",
    "n=int(input(\"ingresar numero del 1 al 12 \"))\n",
    "if n==1:\n",
    "    mensaje=\"Enero\"\n",
    "elif n==2:\n",
    "    mensaje=\"Febrero\"\n",
    "elif n==3:\n",
    "    mensaje=\"Marzo\"\n",
    "elif n==4:\n",
    "    mensaje=\"Abril\"\n",
    "elif n==5:\n",
    "    mensaje=\"Mayo\"\n",
    "elif n==6:\n",
    "    mensaje=\"Junio\"\n",
    "elif n==7:\n",
    "    mensaje=\"Julio\"\n",
    "elif n==8:\n",
    "    mensaje=\"Agosto\"\n",
    "elif n==9:\n",
    "    mensaje=\"Setiembre\"\n",
    "elif n==10:\n",
    "    mensaje=\"Octubre\"\n",
    "elif n==11:\n",
    "    mensaje=\"Noviembre\"\n",
    "elif n==12:\n",
    "    mensaje=\"Diciembre\"\n",
    "else:\n",
    "    mensaje=\" incorrecto\"\n",
    "print(mensaje)\n"
   ]
  },
  {
   "cell_type": "code",
   "execution_count": 5,
   "id": "18b26563",
   "metadata": {
    "id": "18b26563",
    "outputId": "fa6ccb1d-532b-4931-886c-3ec0bcbc6505"
   },
   "outputs": [
    {
     "name": "stdout",
     "output_type": "stream",
     "text": [
      "ingresar venta 1: 20\n",
      "ingresar venta 2: 19\n",
      "ingresar venta 3: 17\n",
      "ingresar venta 4: 18\n",
      "ingresar venta 5: 16\n",
      "ingresar venta 6: 20\n",
      "ingresar venta 7: 17\n",
      "ingresar venta 8: 18\n",
      "ingresar venta 9: 29\n",
      "ingresar venta 10: 32\n",
      "ingresar venta 11: 44\n",
      "ingresar venta 12: 56\n",
      "el total de las ventas es:  306\n",
      "el promedio de las ventas es:  25.5\n",
      "la venta mayor es:  56\n",
      "la venta menor es:  16\n"
     ]
    }
   ],
   "source": [
    "#ejercicio 5\n",
    "v1=int(input(\"ingresar venta 1: \"))\n",
    "v2=int(input(\"ingresar venta 2: \"))\n",
    "v3=int(input(\"ingresar venta 3: \"))\n",
    "v4=int(input(\"ingresar venta 4: \"))\n",
    "v5=int(input(\"ingresar venta 5: \"))\n",
    "v6=int(input(\"ingresar venta 6: \"))\n",
    "v7=int(input(\"ingresar venta 7: \"))\n",
    "v8=int(input(\"ingresar venta 8: \"))\n",
    "v9=int(input(\"ingresar venta 9: \"))\n",
    "v10=int(input(\"ingresar venta 10: \"))\n",
    "v11=int(input(\"ingresar venta 11: \"))\n",
    "v12=int(input(\"ingresar venta 12: \"))\n",
    "total=v1+v2+v3+v4+v5+v6+v7+v8+v9+v10+v11+v12\n",
    "prom=total/12\n",
    "venta_mayor=max(v1,v2,v3,v4,v5,v6,v7,v8,v9,v10,v11,v12)\n",
    "venta_menor=min(v1,v2,v3,v4,v5,v6,v7,v8,v9,v10,v11,v12)\n",
    "print(\"el total de las ventas es: \",total)\n",
    "print(\"el promedio de las ventas es: \",prom)\n",
    "print(\"la venta mayor es: \",venta_mayor)\n",
    "print(\"la venta menor es: \",venta_menor)\n"
   ]
  },
  {
   "cell_type": "code",
   "execution_count": 6,
   "id": "fbc53d4c",
   "metadata": {
    "id": "bb238714",
    "outputId": "a1b8c243-bd09-426d-b37a-10a61219c827"
   },
   "outputs": [
    {
     "name": "stdout",
     "output_type": "stream",
     "text": [
      "Ingresar cantidad: 67\n",
      "la suma de los digitos es: 13\n"
     ]
    }
   ],
   "source": [
    "#ejercicio 6\n",
    "cant=int(input(\"Ingresar cantidad: \"))\n",
    "d1=int(cant/10)\n",
    "d2=cant%10\n",
    "su=d1+d2\n",
    "print(\"la suma de los digitos es:\",su)"
   ]
  },
  {
   "cell_type": "code",
   "execution_count": 7,
   "id": "74383b4b",
   "metadata": {
    "id": "74383b4b",
    "outputId": "7fb8c28e-e7c9-42ce-edb8-e449a845ee58"
   },
   "outputs": [
    {
     "name": "stdout",
     "output_type": "stream",
     "text": [
      "Miguel 6\n",
      "Ximena 6\n",
      "Francisco 9\n",
      "Josue 5\n",
      "Oscar 5\n"
     ]
    }
   ],
   "source": [
    "#ejercicio 7\n",
    "nombres=['Miguel','Ximena','Francisco','Josue','Oscar']\n",
    "for p in nombres:\n",
    "    print(p,len(p))"
   ]
  },
  {
   "cell_type": "code",
   "execution_count": 8,
   "id": "86286c32",
   "metadata": {
    "id": "86286c32",
    "outputId": "8d8f66a0-41da-4f8a-f586-c05bd0617fe4"
   },
   "outputs": [
    {
     "name": "stdout",
     "output_type": "stream",
     "text": [
      "-14\n"
     ]
    }
   ],
   "source": [
    "#ejercicio 8\n",
    "a1=[21,25,38,29,40]\n",
    "a2=[8,45,62,21,54]\n",
    "diferencia=[]\n",
    "for i in range(5):\n",
    "    diferencia=(a1[i]-a2[i])\n",
    "\n",
    "print(diferencia)"
   ]
  },
  {
   "cell_type": "code",
   "execution_count": 9,
   "id": "e5b2a512",
   "metadata": {
    "id": "e5b2a512",
    "outputId": "e193514d-1c3f-43be-acf9-c1df11739acd"
   },
   "outputs": [
    {
     "name": "stdout",
     "output_type": "stream",
     "text": [
      "[9, 25, 62, 47]\n",
      "[11, 43, 28, 35]\n",
      "[14, 12, 15, 19]\n",
      "[51, 33, 34, 33]\n"
     ]
    }
   ],
   "source": [
    "#ejercicio 9\n",
    "M1 = [[9, 25,62, 47],\n",
    "      [11, 43 ,28, 35],\n",
    "      [14, 12,15, 19],\n",
    "      [51,33,34, 33]]\n",
    "\n",
    "matrix_length = len(M1)\n",
    "\n",
    "for i in range(matrix_length):\n",
    "    print(M1[i])"
   ]
  },
  {
   "cell_type": "code",
   "execution_count": 15,
   "id": "7c694d46",
   "metadata": {
    "id": "7c694d46"
   },
   "outputs": [
    {
     "name": "stdout",
     "output_type": "stream",
     "text": [
      "Ingresa el primer número: 7\n",
      "Ingresa el segundo número: 12\n",
      "Ingresa el tercer número: 13\n",
      "El total de los números es: 32\n",
      "El promedio de los números es: 10.666666666666666\n"
     ]
    }
   ],
   "source": [
    "#ejercicio 10\n",
    "def total_y_promedio():\n",
    "    n1 = int(input(\"Ingresa el primer número: \"))\n",
    "    n2 = int(input(\"Ingresa el segundo número: \"))\n",
    "    n3 = int(input(\"Ingresa el tercer número: \"))\n",
    "    \n",
    "    total = n1 + n2 + n3\n",
    "    promedio = total / 3\n",
    "    print(f\"El total de los números es: {total}\")\n",
    "    print(f\"El promedio de los números es: {promedio}\")\n",
    "    \n",
    "total_y_promedio()"
   ]
  },
  {
   "cell_type": "code",
   "execution_count": 16,
   "id": "7ec9927b",
   "metadata": {
    "id": "7ec9927b",
    "outputId": "cec44005-0fa3-426c-a607-fd6d78fc5b5d"
   },
   "outputs": [
    {
     "name": "stdout",
     "output_type": "stream",
     "text": [
      "Ingresa un número del 1 al 10: 7\n",
      "El número 7 en romano es: VII\n"
     ]
    }
   ],
   "source": [
    "#ejercicio 11\n",
    "def numero_a_romano():\n",
    "    numero = int(input(\"Ingresa un número del 1 al 10: \"))\n",
    "    nromanos = [\"\", \"I\", \"II\", \"III\", \"IV\", \"V\", \"VI\", \"VII\", \"VIII\", \"IX\", \"X\"]\n",
    "\n",
    "    if 1 <= numero <= 10:\n",
    "        nromano = nromanos[numero]\n",
    "        print(f\"El número {numero} en romano es: {nromano}\")\n",
    "    else:\n",
    "        print(\"Número fuera de rango. Ingresa un número del 1 al 10.\")\n",
    "\n",
    "numero_a_romano()"
   ]
  },
  {
   "cell_type": "code",
   "execution_count": 17,
   "id": "5b1402f7",
   "metadata": {
    "id": "5b1402f7",
    "outputId": "18e47da1-6d3b-409c-ec94-6607d3038208"
   },
   "outputs": [
    {
     "name": "stdout",
     "output_type": "stream",
     "text": [
      "Ingresa una cantidad: 78\n",
      "La cantidad ingresada de forma invertida es: 87\n"
     ]
    }
   ],
   "source": [
    "#ejercicio 12\n",
    "def cantidad_invertida():\n",
    "    cantidad = input(\"Ingresa una cantidad: \")\n",
    "\n",
    "    cant_invertida = cantidad[::-1] \n",
    "\n",
    "    print(f\"La cantidad ingresada de forma invertida es: {cant_invertida}\")\n",
    "\n",
    "cantidad_invertida()"
   ]
  },
  {
   "cell_type": "code",
   "execution_count": 18,
   "id": "468d9bce",
   "metadata": {
    "id": "468d9bce",
    "outputId": "52aa915e-5a4c-4a51-c1c4-86c10fc5ccdd"
   },
   "outputs": [
    {
     "name": "stdout",
     "output_type": "stream",
     "text": [
      "Ingresa un número de dos cifras: 79\n",
      "La suma de los dígitos es: 16\n"
     ]
    }
   ],
   "source": [
    "#ejercicio 13\n",
    "def suma_digitos():\n",
    "    n = int(input(\"Ingresa un número de dos cifras: \"))\n",
    "\n",
    "    pdigito = n // 10\n",
    "    sdigito = n % 10\n",
    "    \n",
    "    suma = pdigito + sdigito\n",
    "\n",
    "    print(f\"La suma de los dígitos es: {suma}\")\n",
    "\n",
    "suma_digitos()\n"
   ]
  },
  {
   "cell_type": "code",
   "execution_count": null,
   "id": "b4712a28",
   "metadata": {
    "id": "b4712a28"
   },
   "outputs": [],
   "source": []
  }
 ],
 "metadata": {
  "colab": {
   "provenance": []
  },
  "kernelspec": {
   "display_name": "Python 3 (ipykernel)",
   "language": "python",
   "name": "python3"
  },
  "language_info": {
   "codemirror_mode": {
    "name": "ipython",
    "version": 3
   },
   "file_extension": ".py",
   "mimetype": "text/x-python",
   "name": "python",
   "nbconvert_exporter": "python",
   "pygments_lexer": "ipython3",
   "version": "3.11.5"
  }
 },
 "nbformat": 4,
 "nbformat_minor": 5
}
