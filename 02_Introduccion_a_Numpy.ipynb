{
  "cells": [
    {
      "cell_type": "markdown",
      "metadata": {
        "id": "9kurIcZDwpZp"
      },
      "source": [
        "# Introducción a  Numpy\n",
        "\n",
        "Uno de los módulos más importantes de Python es **[Numpy](http://www.numpy.org/)**.\n",
        "\n",
        "Numpy es el encargado de añadir toda la capacidad matemática y vectorial a Python haciendo posible operar con cualquier dato numérico o array (posteriormente veremos qué es un array)."
      ]
    },
    {
      "cell_type": "markdown",
      "metadata": {
        "id": "vsYU0zhtwpZu"
      },
      "source": [
        "## ¿Porqué usar Numpy?\n",
        "\n",
        "En múltiples ocasiones necesitamos hacer operaciones numéricas sobre datos provenientes de archivos Excel o Bases de datos que contienen múltiples campos (columnas) y múltiples registros (filas).\n",
        "\n",
        "Vimos que en Python existen las listas, tuplas y diccionarios, las cuales son de gran ayuda para almacenar y administrar datos. Veamos qué sucede cuando queremos sumar los elementos almacenados en dos listas."
      ]
    },
    {
      "cell_type": "code",
      "execution_count": 1,
      "metadata": {
        "colab": {
          "base_uri": "https://localhost:8080/"
        },
        "id": "SykMZ-q8wpZv",
        "outputId": "d5dc0821-552f-4232-db2c-ff12ad82638a"
      },
      "outputs": [
        {
          "output_type": "stream",
          "name": "stdout",
          "text": [
            "[1, 2, 3, 4, 5, 6, 7, 8]\n"
          ]
        }
      ],
      "source": [
        "x=[1,2,3,4]\n",
        "y=[5,6,7,8]\n",
        "print(x+y)"
      ]
    },
    {
      "cell_type": "markdown",
      "metadata": {
        "id": "OLRC4vXiwpZx"
      },
      "source": [
        "Como podemos notar, el operador + simplemente concatena las dos listas.\n",
        "Pero ... ¿Cómo haríamos para sumar los elementos de las dos listas, elemento por elemento?"
      ]
    },
    {
      "cell_type": "code",
      "execution_count": 3,
      "metadata": {
        "colab": {
          "base_uri": "https://localhost:8080/"
        },
        "id": "dpfvFSd6wpZy",
        "outputId": "c65391ff-ed14-4092-9624-b47ae44abefe"
      },
      "outputs": [
        {
          "output_type": "stream",
          "name": "stdout",
          "text": [
            "[6, 8, 10, 12]\n"
          ]
        }
      ],
      "source": [
        "suma=[]\n",
        "for i in range(4):\n",
        "    suma.append(x[i]+y[i])\n",
        "\n",
        "print(suma)"
      ]
    },
    {
      "cell_type": "markdown",
      "metadata": {
        "id": "ZCePw4lSwpZy"
      },
      "source": [
        "## Cómo importar el paquete Numpy\n",
        "\n",
        "Partimos importando el paquete numpy usando la función import. En este caso usaremos el alias np para referirnos de manera más abreviada a las clases y  métodos implementados en numpy."
      ]
    },
    {
      "cell_type": "code",
      "execution_count": 4,
      "metadata": {
        "id": "hudOZtsGwpZy"
      },
      "outputs": [],
      "source": [
        "import numpy as np"
      ]
    },
    {
      "cell_type": "markdown",
      "metadata": {
        "id": "KowdMH0jwpZz"
      },
      "source": [
        "## Definición de arreglos en Numpy"
      ]
    },
    {
      "cell_type": "code",
      "execution_count": 5,
      "metadata": {
        "colab": {
          "base_uri": "https://localhost:8080/"
        },
        "id": "NYVQEV_LwpZz",
        "outputId": "ddf841d9-b48d-4cd1-eab0-946f1844e3b8"
      },
      "outputs": [
        {
          "output_type": "stream",
          "name": "stdout",
          "text": [
            "[1 2 3 4]\n",
            "type(x):  <class 'numpy.ndarray'>\n",
            "x.dtype:  int64\n",
            "x.size:  4\n",
            "x.shape:  (4,)\n"
          ]
        }
      ],
      "source": [
        "# Definir un arreglo 1D\n",
        "\n",
        "x = np.array([1,2,3,4])\n",
        "print(x)\n",
        "print('type(x): ', type(x))\n",
        "print('x.dtype: ', x.dtype)\n",
        "print('x.size: ', x.size)\n",
        "print('x.shape: ', x.shape)"
      ]
    },
    {
      "cell_type": "code",
      "execution_count": 6,
      "metadata": {
        "colab": {
          "base_uri": "https://localhost:8080/"
        },
        "id": "zXbLoISiwpZz",
        "outputId": "b25b573b-0a78-4ed9-ab4f-88182a9fc52b"
      },
      "outputs": [
        {
          "output_type": "stream",
          "name": "stdout",
          "text": [
            "[1. 2. 3. 4.]\n",
            "type(x):  <class 'numpy.ndarray'>\n",
            "x.dtype:  float32\n",
            "x.size:  4\n",
            "x.shape:  (4,)\n"
          ]
        }
      ],
      "source": [
        "# Definir un arreglo 1D con elementos con tipo de dato de punto flotante\n",
        "\n",
        "x = np.array([1,2,3,4], dtype=np.float32)\n",
        "print(x)\n",
        "print('type(x): ', type(x))\n",
        "print('x.dtype: ', x.dtype)\n",
        "print('x.size: ', x.size)\n",
        "print('x.shape: ', x.shape)"
      ]
    },
    {
      "cell_type": "code",
      "execution_count": 7,
      "metadata": {
        "colab": {
          "base_uri": "https://localhost:8080/"
        },
        "id": "13bHvSNCwpZ0",
        "outputId": "feb36eba-ab21-41d3-df9e-0c32d5b11587"
      },
      "outputs": [
        {
          "output_type": "stream",
          "name": "stdout",
          "text": [
            "x:  [1. 2. 3. 4.]\n",
            "y:  [5 6 7 8]\n",
            "Suma:  [ 6.  8. 10. 12.]\n"
          ]
        }
      ],
      "source": [
        "# Sumar los arreglos x e y\n",
        "\n",
        "y = np.array([5,6,7,8])\n",
        "print('x: ', x)\n",
        "print('y: ', y)\n",
        "print('Suma: ', x+y)"
      ]
    },
    {
      "cell_type": "code",
      "execution_count": 8,
      "metadata": {
        "colab": {
          "base_uri": "https://localhost:8080/"
        },
        "id": "qTdzX7u7wpZ0",
        "outputId": "200572f3-5a91-42be-88e1-796d30115610"
      },
      "outputs": [
        {
          "output_type": "stream",
          "name": "stdout",
          "text": [
            "[[1 2 3 4]\n",
            " [5 6 7 8]]\n",
            "<class 'numpy.ndarray'>\n",
            "8\n",
            "(2, 4)\n"
          ]
        }
      ],
      "source": [
        "# Definir un arreglo 2D\n",
        "\n",
        "x= np.array([[1,2,3,4],[5,6,7,8]])\n",
        "print(x)\n",
        "print(type(x))\n",
        "print(x.size)\n",
        "print(x.shape)"
      ]
    },
    {
      "cell_type": "markdown",
      "metadata": {
        "id": "z0HIEY7xwpZ2"
      },
      "source": [
        "**Cómo funciona el slicing en los arreglos de Numpy**<br />\n",
        "<img src=\"images/numpy_indexing.png\" width=\"400\">"
      ]
    },
    {
      "cell_type": "markdown",
      "metadata": {
        "id": "q2tAswCjwpZ1"
      },
      "source": [
        "### Slicing"
      ]
    },
    {
      "cell_type": "code",
      "execution_count": 9,
      "metadata": {
        "colab": {
          "base_uri": "https://localhost:8080/"
        },
        "id": "9CeSi8vNwpZ1",
        "outputId": "a4d49991-6056-406e-cae0-3a366aefe0c5"
      },
      "outputs": [
        {
          "output_type": "execute_result",
          "data": {
            "text/plain": [
              "array([[5, 6, 7, 8]])"
            ]
          },
          "metadata": {},
          "execution_count": 9
        }
      ],
      "source": [
        "x[1:]"
      ]
    },
    {
      "cell_type": "code",
      "execution_count": 11,
      "metadata": {
        "colab": {
          "base_uri": "https://localhost:8080/"
        },
        "id": "3BBM2TpNwpZ2",
        "outputId": "1eb35972-3e7f-46b3-bdee-9d0aacd0e8ce"
      },
      "outputs": [
        {
          "output_type": "execute_result",
          "data": {
            "text/plain": [
              "array([[1, 2, 3],\n",
              "       [5, 6, 7]])"
            ]
          },
          "metadata": {},
          "execution_count": 11
        }
      ],
      "source": [
        "x[0:2,0:3]"
      ]
    },
    {
      "cell_type": "code",
      "execution_count": 14,
      "metadata": {
        "colab": {
          "base_uri": "https://localhost:8080/"
        },
        "id": "K979CcHlwpZ2",
        "outputId": "af94841d-bf60-443d-c4df-09f97e91836d"
      },
      "outputs": [
        {
          "output_type": "stream",
          "name": "stdout",
          "text": [
            "x:  [0. 0. 0. 0. 0. 0. 0. 0. 0. 0.]\n"
          ]
        }
      ],
      "source": [
        "# Inicializar un arreglo 1D y otro 2D con ceros. Notar que usamos Y por X\n",
        "\n",
        "x=np.zeros(10)\n",
        "print('x: ', x)"
      ]
    },
    {
      "cell_type": "code",
      "execution_count": 16,
      "metadata": {
        "colab": {
          "base_uri": "https://localhost:8080/"
        },
        "id": "EDTA_-c-wpZ3",
        "outputId": "0a5c5a81-372b-444d-b038-ce510d05e9a9"
      },
      "outputs": [
        {
          "output_type": "stream",
          "name": "stdout",
          "text": [
            "[0.26900693 0.10858173 0.10300859 0.52293113 0.35364472 0.00351263\n",
            " 0.27976053 0.86167563 0.56332231 0.53648754 0.6740575  0.07016761\n",
            " 0.78619487 0.25229317 0.21700656 0.08010358 0.67335975 0.45182631\n",
            " 0.02934956 0.53024364]\n"
          ]
        }
      ],
      "source": [
        "# Crear un arreglo usando valores aleatorios entre 0 y 1\n",
        "\n",
        "x=np.random.random(20)\n",
        "print(x)"
      ]
    },
    {
      "cell_type": "code",
      "execution_count": 17,
      "metadata": {
        "colab": {
          "base_uri": "https://localhost:8080/"
        },
        "id": "pGsXBtb6wpZ3",
        "outputId": "01df5fe2-8b68-4079-eac4-e1727b0d984f"
      },
      "outputs": [
        {
          "output_type": "stream",
          "name": "stdout",
          "text": [
            "[[416 914 157]\n",
            " [491 359 373]\n",
            " [773 319 272]]\n"
          ]
        }
      ],
      "source": [
        "# crear un arreglo de enteros aleatorios\n",
        "\n",
        "y=np.random.randint(0,1000,[3,3])\n",
        "print(y)"
      ]
    },
    {
      "cell_type": "code",
      "execution_count": 30,
      "metadata": {
        "colab": {
          "base_uri": "https://localhost:8080/"
        },
        "id": "H_YMqxpbwpZ4",
        "outputId": "820b06c0-f560-46e2-bc20-3b15e2ca41e1"
      },
      "outputs": [
        {
          "output_type": "execute_result",
          "data": {
            "text/plain": [
              "array([[1., 0., 0., 0., 0.],\n",
              "       [0., 1., 0., 0., 0.],\n",
              "       [0., 0., 1., 0., 0.],\n",
              "       [0., 0., 0., 1., 0.],\n",
              "       [0., 0., 0., 0., 1.]])"
            ]
          },
          "metadata": {},
          "execution_count": 30
        }
      ],
      "source": [
        "# matriz identidad\n",
        "np.eye(5)\n"
      ]
    },
    {
      "cell_type": "code",
      "execution_count": 31,
      "metadata": {
        "colab": {
          "base_uri": "https://localhost:8080/"
        },
        "id": "4OSe2wKUwpZ4",
        "outputId": "b03bc0f2-b8d4-4201-d440-14d48df0dbd9"
      },
      "outputs": [
        {
          "output_type": "execute_result",
          "data": {
            "text/plain": [
              "array([[1, 0, 0, 0, 0],\n",
              "       [0, 2, 0, 0, 0],\n",
              "       [0, 0, 3, 0, 0],\n",
              "       [0, 0, 0, 4, 0],\n",
              "       [0, 0, 0, 0, 5]])"
            ]
          },
          "metadata": {},
          "execution_count": 31
        }
      ],
      "source": [
        "# matriz diagonal\n",
        "np.diag([1,2,3,4,5])"
      ]
    },
    {
      "cell_type": "code",
      "execution_count": 32,
      "metadata": {
        "colab": {
          "base_uri": "https://localhost:8080/"
        },
        "id": "PcFGt8eowpZ4",
        "outputId": "f21d28d9-1503-4734-f540-945d7c634396"
      },
      "outputs": [
        {
          "output_type": "stream",
          "name": "stdout",
          "text": [
            "[[ 1  2  3  4]\n",
            " [ 5  6  7  8]\n",
            " [ 9 10 11 12]]\n",
            "\n",
            "x[0,3]:  4\n",
            "\n",
            "x[:,0]:  [1 5 9]\n",
            "\n",
            "x[0,:]:  [1 2 3 4]\n"
          ]
        }
      ],
      "source": [
        "# Extraer valores de un arreglo Numpy usando indices\n",
        "\n",
        "x= np.array([[1,2,3,4],\n",
        "            [5,6,7,8],\n",
        "             [9,10,11,12]])\n",
        "print(x)\n",
        "\n",
        "print('\\nx[0,3]: ', x[0,3])\n",
        "\n",
        "print('\\nx[:,0]: ', x[:,0])\n",
        "print('\\nx[0,:]: ', x[0,:])"
      ]
    },
    {
      "cell_type": "code",
      "execution_count": null,
      "metadata": {
        "id": "zi4HjHGewpZ5"
      },
      "outputs": [],
      "source": [
        "x"
      ]
    },
    {
      "cell_type": "code",
      "execution_count": 33,
      "metadata": {
        "colab": {
          "base_uri": "https://localhost:8080/"
        },
        "id": "DRatd4GFwpZ5",
        "outputId": "edd925b3-a7f1-493c-8ce5-65fad1338574"
      },
      "outputs": [
        {
          "output_type": "stream",
          "name": "stdout",
          "text": [
            "[[False False False False]\n",
            " [False False  True  True]\n",
            " [ True  True  True  True]]\n"
          ]
        }
      ],
      "source": [
        "# Numpy permite crear máscaras fácilmente usando condiciones booleanas\n",
        "a=x>6\n",
        "print(a)"
      ]
    },
    {
      "cell_type": "code",
      "execution_count": 34,
      "metadata": {
        "colab": {
          "base_uri": "https://localhost:8080/"
        },
        "id": "3iBt_kMEwpZ5",
        "outputId": "a8449bb5-5406-489d-f1d2-678a7aabd09f"
      },
      "outputs": [
        {
          "output_type": "stream",
          "name": "stdout",
          "text": [
            "[ 7  8  9 10 11 12]\n"
          ]
        }
      ],
      "source": [
        "# Extraer los valores de x que satisfacen la condición booleana. Para ello usamos la máscara\n",
        "print(x[a])"
      ]
    },
    {
      "cell_type": "code",
      "execution_count": 36,
      "metadata": {
        "colab": {
          "base_uri": "https://localhost:8080/"
        },
        "id": "itpeHOoGwpZ5",
        "outputId": "965969e6-9620-4bc4-ddf7-293b81913a5a"
      },
      "outputs": [
        {
          "output_type": "execute_result",
          "data": {
            "text/plain": [
              "(3, 4)"
            ]
          },
          "metadata": {},
          "execution_count": 36
        }
      ],
      "source": [
        "x.shape"
      ]
    },
    {
      "cell_type": "code",
      "execution_count": 37,
      "metadata": {
        "colab": {
          "base_uri": "https://localhost:8080/"
        },
        "id": "lXsZ0hZ4wpZ6",
        "outputId": "998da55a-b0cd-4de9-aabf-1499ca6f15c2"
      },
      "outputs": [
        {
          "output_type": "execute_result",
          "data": {
            "text/plain": [
              "array([[ 1,  2,  3,  4],\n",
              "       [ 5,  6,  7,  8],\n",
              "       [ 9, 10, 11, 12]])"
            ]
          },
          "metadata": {},
          "execution_count": 37
        }
      ],
      "source": [
        "x"
      ]
    },
    {
      "cell_type": "code",
      "execution_count": 38,
      "metadata": {
        "colab": {
          "base_uri": "https://localhost:8080/"
        },
        "id": "tV64bcI6wpZ6",
        "outputId": "91417e43-7948-4412-d0a1-c6b7ecb1503c"
      },
      "outputs": [
        {
          "output_type": "execute_result",
          "data": {
            "text/plain": [
              "array([15, 18, 21, 24])"
            ]
          },
          "metadata": {},
          "execution_count": 38
        }
      ],
      "source": [
        "# Sumar los valores de un arreglo 2D a lo largo del eje Y (columnas)\n",
        "np.sum(x, axis=0)"
      ]
    },
    {
      "cell_type": "code",
      "execution_count": 39,
      "metadata": {
        "colab": {
          "base_uri": "https://localhost:8080/"
        },
        "id": "ju-0LmXNwpZ6",
        "outputId": "438f9fac-70e5-40be-f1bf-be4b8c4adb70"
      },
      "outputs": [
        {
          "output_type": "execute_result",
          "data": {
            "text/plain": [
              "array([10, 26, 42])"
            ]
          },
          "metadata": {},
          "execution_count": 39
        }
      ],
      "source": [
        "# Sumar los valores de un arrego 2D a lo largo del eje X (filas)\n",
        "np.sum(x, axis=1)"
      ]
    },
    {
      "cell_type": "code",
      "execution_count": 40,
      "metadata": {
        "colab": {
          "base_uri": "https://localhost:8080/"
        },
        "id": "7ZgcmSsEwpZ6",
        "outputId": "e4075a16-0d2f-4eab-d6bf-2655b6dfd424"
      },
      "outputs": [
        {
          "output_type": "stream",
          "name": "stdout",
          "text": [
            "[[ 1  5  9]\n",
            " [ 2  6 10]\n",
            " [ 3  7 11]\n",
            " [ 4  8 12]] (4, 3)\n"
          ]
        }
      ],
      "source": [
        "# Crear la transpuesta de la matriz x\n",
        "y= x.T\n",
        "print(y, y.shape)"
      ]
    },
    {
      "cell_type": "markdown",
      "metadata": {
        "id": "UixCHp7xwpZ7"
      },
      "source": [
        "## Funciones matemáticas"
      ]
    },
    {
      "cell_type": "code",
      "execution_count": 43,
      "metadata": {
        "colab": {
          "base_uri": "https://localhost:8080/"
        },
        "id": "ukI17IApwpZ7",
        "outputId": "feb61935-cdcb-4674-f457-154355b8c38d"
      },
      "outputs": [
        {
          "output_type": "stream",
          "name": "stdout",
          "text": [
            "Media:  0.5128596649984188\n",
            "Desviación Estandar:  0.28556444561378275\n"
          ]
        }
      ],
      "source": [
        "x=np.random.random(1000)\n",
        "#print(x)\n",
        "print('Media: ', np.mean(x))\n",
        "print('Desviación Estandar: ', np.std(x))"
      ]
    },
    {
      "cell_type": "code",
      "execution_count": 23,
      "metadata": {
        "colab": {
          "base_uri": "https://localhost:8080/"
        },
        "id": "8zRYenmiwpZ8",
        "outputId": "428d4c03-6e48-4b9d-d973-783941bbaf12"
      },
      "outputs": [
        {
          "output_type": "execute_result",
          "data": {
            "text/plain": [
              "0.39551085533186925"
            ]
          },
          "metadata": {},
          "execution_count": 23
        }
      ],
      "source": [
        "np.random.randn()"
      ]
    },
    {
      "cell_type": "code",
      "execution_count": 46,
      "metadata": {
        "id": "i0HmAYqYwpaH"
      },
      "outputs": [],
      "source": [
        "# También es posible importar algunas funciones directamente desde las librerías\n",
        "# Para ello usamos la sintaxis from <nombre_libreria> import <nombre_funcion>\n",
        "# no quiero llamar asi a mi funcion aleatorio: np.random.random\n",
        "\n",
        "from numpy.random import random"
      ]
    },
    {
      "cell_type": "code",
      "execution_count": 47,
      "metadata": {
        "scrolled": true,
        "colab": {
          "base_uri": "https://localhost:8080/"
        },
        "id": "qY63aL-YwpaH",
        "outputId": "24c7264b-ce0b-4a34-8f8a-da15d6b07585"
      },
      "outputs": [
        {
          "output_type": "execute_result",
          "data": {
            "text/plain": [
              "array([3.89006756e-01, 9.39854988e-01, 6.97642829e-01, 6.29871285e-01,\n",
              "       8.93183069e-04, 4.75517019e-01, 1.97015170e-01, 3.81042394e-01,\n",
              "       8.80946296e-01, 6.31089436e-01, 2.07908698e-01, 8.86511688e-01,\n",
              "       8.75764522e-01, 9.74999912e-01, 3.87206414e-01, 2.58059862e-01,\n",
              "       2.12104177e-01, 4.54548245e-01, 4.75671130e-02, 1.52729167e-01,\n",
              "       8.02287547e-01, 4.39567382e-03, 9.15729374e-01, 6.34804805e-01,\n",
              "       6.05346404e-01, 5.68301279e-01, 1.52942497e-01, 9.63294370e-01,\n",
              "       5.88571297e-02, 4.27429828e-02, 4.99276207e-01, 2.60646758e-01,\n",
              "       6.76673881e-01, 9.02722033e-01, 2.53764999e-01, 9.07934348e-01,\n",
              "       5.87285821e-01, 6.67547717e-02, 5.61053087e-01, 6.21569803e-01,\n",
              "       3.91518959e-03, 3.05416251e-01, 3.41352158e-01, 4.22849380e-01,\n",
              "       6.70151583e-01, 6.03388151e-01, 4.87330683e-01, 4.66829077e-01,\n",
              "       7.78878547e-01, 4.08081760e-01, 2.52288442e-01, 8.80153618e-01,\n",
              "       7.33643011e-01, 1.16447671e-02, 8.27539310e-02, 9.02529103e-01,\n",
              "       5.06939827e-01, 5.45116171e-01, 9.11781274e-01, 9.56066198e-01,\n",
              "       7.82189737e-01, 7.63641130e-01, 3.63751863e-01, 4.77307250e-01,\n",
              "       4.57337870e-01, 9.27329503e-01, 1.88105822e-02, 3.76484038e-01,\n",
              "       1.84416698e-01, 3.67847577e-01, 8.33355683e-01, 9.81401721e-01,\n",
              "       6.67237071e-01, 4.37037172e-01, 2.93886699e-01, 2.18764316e-01,\n",
              "       4.65101339e-01, 6.54528540e-02, 2.12678523e-02, 3.72791030e-02,\n",
              "       4.81332613e-02, 9.17686369e-01, 5.12288824e-01, 8.34587143e-01,\n",
              "       9.66259354e-01, 3.94842472e-01, 9.30848466e-01, 3.64869220e-01,\n",
              "       5.18481295e-01, 4.49007820e-01, 9.04517591e-01, 8.98889732e-01,\n",
              "       4.69586954e-01, 6.33655543e-01, 3.28432554e-01, 2.79293198e-01,\n",
              "       5.01532726e-01, 2.14817922e-01, 5.09038502e-02, 3.25539495e-01])"
            ]
          },
          "metadata": {},
          "execution_count": 47
        }
      ],
      "source": [
        "random(100)"
      ]
    },
    {
      "cell_type": "code",
      "execution_count": 48,
      "metadata": {
        "colab": {
          "base_uri": "https://localhost:8080/"
        },
        "id": "hNwyrcLqwpaI",
        "outputId": "833d0e64-f51c-4340-bf7b-d46c84809702"
      },
      "outputs": [
        {
          "output_type": "stream",
          "name": "stdout",
          "text": [
            "[0 1 2 3 4 5 6 7 8 9]\n"
          ]
        }
      ],
      "source": [
        "# Crear un arreglo de enteros que comience en 0 y termine en 10 (no incluído)\n",
        "x=np.arange(0,10)\n",
        "print(x)"
      ]
    },
    {
      "cell_type": "code",
      "execution_count": 49,
      "metadata": {
        "colab": {
          "base_uri": "https://localhost:8080/"
        },
        "id": "XUeVhCDpwpaI",
        "outputId": "0517153d-1c7c-48b5-d351-8801a0181453"
      },
      "outputs": [
        {
          "output_type": "stream",
          "name": "stdout",
          "text": [
            "[0, 1, 2, 3, 4, 5, 6, 7, 8, 9]\n"
          ]
        }
      ],
      "source": [
        "# un rango es una lista de numeros consecutivos\n",
        "y = range(0,10)\n",
        "print(list(y))"
      ]
    },
    {
      "cell_type": "code",
      "execution_count": 50,
      "metadata": {
        "colab": {
          "base_uri": "https://localhost:8080/"
        },
        "id": "BDweXfcawpaI",
        "outputId": "8b3173a0-f502-4a84-ea3f-e9006c089b01"
      },
      "outputs": [
        {
          "output_type": "stream",
          "name": "stdout",
          "text": [
            "[ 0  2  4  6  8 10 12 14 16 18 20 22 24 26 28 30 32 34 36 38 40 42 44 46\n",
            " 48 50 52 54 56 58 60 62 64 66 68 70 72 74 76 78 80 82 84 86 88 90 92 94\n",
            " 96 98]\n",
            "int32\n"
          ]
        }
      ],
      "source": [
        "# Crear un arreglo de punto flotante que comience en 0 y termine en 10, con paso de 0.5\n",
        "x=np.arange(0,100,2, dtype=np.int32)\n",
        "print(x)\n",
        "print(x.dtype)"
      ]
    },
    {
      "cell_type": "code",
      "execution_count": 51,
      "metadata": {
        "scrolled": true,
        "colab": {
          "base_uri": "https://localhost:8080/"
        },
        "id": "C0cmbq3HwpaJ",
        "outputId": "b93a705c-e07c-4ce7-feeb-91997de54822"
      },
      "outputs": [
        {
          "output_type": "stream",
          "name": "stdout",
          "text": [
            "[ 6  8 10 12 14]\n",
            "[4.03428793e+02 2.98095799e+03 2.20264658e+04 1.62754791e+05\n",
            " 1.20260428e+06]\n",
            "[1.79175947 2.07944154 2.30258509 2.48490665 2.63905733]\n"
          ]
        }
      ],
      "source": [
        "# Usar funciones trigonométricas\n",
        "# Numpy contiene una serie de constantes matemáticas. Usaremos Pi\n",
        "print(x[3:8])\n",
        "x_expo = np.exp(x[3:8])\n",
        "x_log = np.log(x[3:8])\n",
        "print(x_expo)\n",
        "print(x_log)"
      ]
    },
    {
      "cell_type": "code",
      "execution_count": 52,
      "metadata": {
        "colab": {
          "base_uri": "https://localhost:8080/"
        },
        "id": "tPjTajRawpaK",
        "outputId": "2fc47387-f51b-4c23-eb3c-e6a6825123d1"
      },
      "outputs": [
        {
          "output_type": "stream",
          "name": "stdout",
          "text": [
            "[0.77815125 0.90308999 1.         1.07918125 1.14612804]\n"
          ]
        }
      ],
      "source": [
        "x_log10 = np.log10(x[3:8])\n",
        "print(x_log10)"
      ]
    },
    {
      "cell_type": "code",
      "execution_count": 54,
      "metadata": {
        "colab": {
          "base_uri": "https://localhost:8080/"
        },
        "id": "V3obUobvwpaK",
        "outputId": "57a2ad1c-3aaf-4f1b-81d1-9e8131c5b7a9"
      },
      "outputs": [
        {
          "output_type": "stream",
          "name": "stdout",
          "text": [
            "[   0    4   16   36   64  100  144  196  256  324  400  484  576  676\n",
            "  784  900 1024 1156 1296 1444 1600 1764 1936 2116 2304 2500 2704 2916\n",
            " 3136 3364 3600 3844 4096 4356 4624 4900 5184 5476 5776 6084 6400 6724\n",
            " 7056 7396 7744 8100 8464 8836 9216 9604]\n"
          ]
        }
      ],
      "source": [
        "# Usar funciones como potencia\n",
        "y=np.power(x,2) # elevar cada elemento del arreglo x, a la segunda potencia\n",
        "print(y)"
      ]
    },
    {
      "cell_type": "code",
      "execution_count": 55,
      "metadata": {
        "colab": {
          "base_uri": "https://localhost:8080/"
        },
        "id": "szkf8LAQwpaK",
        "outputId": "767e0e96-6c91-4714-9e9b-95a0977e7769"
      },
      "outputs": [
        {
          "output_type": "stream",
          "name": "stdout",
          "text": [
            "[          0          32        1024        7776       32768      100000\n",
            "      248832      537824     1048576     1889568     3200000     5153632\n",
            "     7962624    11881376    17210368    24300000    33554432    45435424\n",
            "    60466176    79235168   102400000   130691232   164916224   205962976\n",
            "   254803968   312500000   380204032   459165024   550731776   656356768\n",
            "   777600000   916132832  1073741824  1252332576  1453933568  1680700000\n",
            "  1934917632 -2075960672 -1759441920 -1407792928 -1018167296  -587568864\n",
            "  -112847872   409302880   982351872  1609932704 -1999119360 -1250894368\n",
            "  -436207616   449273376]\n"
          ]
        }
      ],
      "source": [
        "y=np.power(x,5) # elevar cada elemento del arreglo x, a la segunda potencia\n",
        "print(y)"
      ]
    },
    {
      "cell_type": "code",
      "execution_count": 56,
      "metadata": {
        "colab": {
          "base_uri": "https://localhost:8080/"
        },
        "id": "fxi-0_VAwpaK",
        "outputId": "af1b954a-d28e-41ab-afdd-c9ffd6407df1"
      },
      "outputs": [
        {
          "output_type": "stream",
          "name": "stdout",
          "text": [
            "[0.         1.41421356 2.         2.44948974 2.82842712 3.16227766\n",
            " 3.46410162 3.74165739 4.         4.24264069 4.47213595 4.69041576\n",
            " 4.89897949 5.09901951 5.29150262 5.47722558 5.65685425 5.83095189\n",
            " 6.         6.164414   6.32455532 6.4807407  6.63324958 6.78232998\n",
            " 6.92820323 7.07106781 7.21110255 7.34846923 7.48331477 7.61577311\n",
            " 7.74596669 7.87400787 8.         8.1240384  8.24621125 8.36660027\n",
            " 8.48528137 8.60232527 8.71779789 8.83176087 8.94427191 9.05538514\n",
            " 9.16515139 9.2736185  9.38083152 9.48683298 9.59166305 9.69535971\n",
            " 9.79795897 9.89949494]\n"
          ]
        }
      ],
      "source": [
        "# Usar funciones como raíz cuadrada\n",
        "y=np.sqrt(x) # raíz de a, del inglés \"square root\"\n",
        "print(y)"
      ]
    },
    {
      "cell_type": "markdown",
      "metadata": {
        "id": "UxvcXHnUwpaL"
      },
      "source": [
        "Escribir *np.sqrt(x)* es mucho más breve que la alternativa de usar funciones nativas de Python: Calcular una a una las raíces cuadradas de cada elemento de *x*."
      ]
    },
    {
      "cell_type": "code",
      "execution_count": 57,
      "metadata": {
        "colab": {
          "base_uri": "https://localhost:8080/"
        },
        "id": "NWFT1iJ9wpaL",
        "outputId": "1766ff55-f499-4911-ba6d-1c4dabe4b9f4"
      },
      "outputs": [
        {
          "output_type": "stream",
          "name": "stdout",
          "text": [
            "[0.         1.14869835 1.31950791 1.43096908 1.51571657 1.58489319\n",
            " 1.64375183 1.6952182  1.74110113 1.78260246 1.8205642  1.85560074\n",
            " 1.88817502 1.91864519 1.94729436 1.97435049 2.         2.02439746\n",
            " 2.04767251 2.06993505 2.09127911 2.11178576 2.13152551 2.15056001\n",
            " 2.16894354 2.18672415 2.20394458 2.22064303 2.23685383 2.25260788\n",
            " 2.26793316 2.28285506 2.29739671 2.31157925 2.32542203 2.33894284\n",
            " 2.35215805 2.36508277 2.37773099 2.39011568 2.40224887 2.41414177\n",
            " 2.42580483 2.43724782 2.44847985 2.45950949 2.47034475 2.48099318\n",
            " 2.49146188 2.50175753]\n"
          ]
        }
      ],
      "source": [
        "y=np.power(x,1/5) # elevar cada elemento del arreglo x, a la segunda potencia\n",
        "print(y)"
      ]
    }
  ],
  "metadata": {
    "kernelspec": {
      "display_name": "Python 3",
      "language": "python",
      "name": "python3"
    },
    "language_info": {
      "codemirror_mode": {
        "name": "ipython",
        "version": 3
      },
      "file_extension": ".py",
      "mimetype": "text/x-python",
      "name": "python",
      "nbconvert_exporter": "python",
      "pygments_lexer": "ipython3",
      "version": "3.7.5"
    },
    "colab": {
      "provenance": []
    }
  },
  "nbformat": 4,
  "nbformat_minor": 0
}