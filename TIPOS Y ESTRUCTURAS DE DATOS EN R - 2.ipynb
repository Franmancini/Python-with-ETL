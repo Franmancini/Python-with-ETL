{
 "cells": [
  {
   "cell_type": "markdown",
   "id": "63af30fc",
   "metadata": {},
   "source": [
    "#-------------------------------------------#\n",
    "# CAPITULO 2. TIPOS Y ESTRUCTURAS DE DATOS  #\n",
    "#-------------------------------------------#"
   ]
  },
  {
   "cell_type": "code",
   "execution_count": 2,
   "id": "5855fa9b",
   "metadata": {},
   "outputs": [
    {
     "data": {
      "text/html": [
       "'numeric'"
      ],
      "text/latex": [
       "'numeric'"
      ],
      "text/markdown": [
       "'numeric'"
      ],
      "text/plain": [
       "[1] \"numeric\""
      ]
     },
     "metadata": {},
     "output_type": "display_data"
    }
   ],
   "source": [
    "x <- 2\n",
    "class(x)"
   ]
  },
  {
   "cell_type": "code",
   "execution_count": 3,
   "id": "6999ac57",
   "metadata": {},
   "outputs": [
    {
     "data": {
      "text/html": [
       "'character'"
      ],
      "text/latex": [
       "'character'"
      ],
      "text/markdown": [
       "'character'"
      ],
      "text/plain": [
       "[1] \"character\""
      ]
     },
     "metadata": {},
     "output_type": "display_data"
    }
   ],
   "source": [
    "y <- \"Data Science\"\n",
    "class(y)"
   ]
  },
  {
   "cell_type": "code",
   "execution_count": 5,
   "id": "b6e09b01",
   "metadata": {},
   "outputs": [
    {
     "data": {
      "text/html": [
       "'numeric'"
      ],
      "text/latex": [
       "'numeric'"
      ],
      "text/markdown": [
       "'numeric'"
      ],
      "text/plain": [
       "[1] \"numeric\""
      ]
     },
     "metadata": {},
     "output_type": "display_data"
    },
    {
     "data": {
      "text/html": [
       "'numeric'"
      ],
      "text/latex": [
       "'numeric'"
      ],
      "text/markdown": [
       "'numeric'"
      ],
      "text/plain": [
       "[1] \"numeric\""
      ]
     },
     "metadata": {},
     "output_type": "display_data"
    },
    {
     "data": {
      "text/html": [
       "TRUE"
      ],
      "text/latex": [
       "TRUE"
      ],
      "text/markdown": [
       "TRUE"
      ],
      "text/plain": [
       "[1] TRUE"
      ]
     },
     "metadata": {},
     "output_type": "display_data"
    },
    {
     "data": {
      "text/html": [
       "5"
      ],
      "text/latex": [
       "5"
      ],
      "text/markdown": [
       "5"
      ],
      "text/plain": [
       "[1] 5"
      ]
     },
     "metadata": {},
     "output_type": "display_data"
    },
    {
     "data": {
      "text/html": [
       "25"
      ],
      "text/latex": [
       "25"
      ],
      "text/markdown": [
       "25"
      ],
      "text/plain": [
       "[1] 25"
      ]
     },
     "metadata": {},
     "output_type": "display_data"
    }
   ],
   "source": [
    "x <- 5\n",
    "y <- 10\n",
    "\n",
    "class(x)\n",
    "class(y)\n",
    "\n",
    "is.numeric(x)\n",
    "x\n",
    "\n",
    "z <- x**2\n",
    "z"
   ]
  },
  {
   "cell_type": "markdown",
   "id": "c76894fb",
   "metadata": {},
   "source": [
    "# Asignar un número como entero"
   ]
  },
  {
   "cell_type": "code",
   "execution_count": 6,
   "id": "e3c65bc2",
   "metadata": {},
   "outputs": [
    {
     "data": {
      "text/html": [
       "'numeric'"
      ],
      "text/latex": [
       "'numeric'"
      ],
      "text/markdown": [
       "'numeric'"
      ],
      "text/plain": [
       "[1] \"numeric\""
      ]
     },
     "metadata": {},
     "output_type": "display_data"
    },
    {
     "data": {
      "text/html": [
       "'integer'"
      ],
      "text/latex": [
       "'integer'"
      ],
      "text/markdown": [
       "'integer'"
      ],
      "text/plain": [
       "[1] \"integer\""
      ]
     },
     "metadata": {},
     "output_type": "display_data"
    },
    {
     "data": {
      "text/html": [
       "2"
      ],
      "text/latex": [
       "2"
      ],
      "text/markdown": [
       "2"
      ],
      "text/plain": [
       "[1] 2"
      ]
     },
     "metadata": {},
     "output_type": "display_data"
    }
   ],
   "source": [
    "a1 <- 2.5\n",
    "class(a1)\n",
    "\n",
    "a1 <- as.integer(a1)\n",
    "class(a1)\n",
    "a1\n",
    "w <- a1 + 3\n",
    "a1 + 3 -> w"
   ]
  },
  {
   "cell_type": "markdown",
   "id": "0055dfca",
   "metadata": {},
   "source": [
    "# Funciones matemáticas"
   ]
  },
  {
   "cell_type": "code",
   "execution_count": 7,
   "id": "864eadf9",
   "metadata": {},
   "outputs": [
    {
     "data": {
      "text/html": [
       "10"
      ],
      "text/latex": [
       "10"
      ],
      "text/markdown": [
       "10"
      ],
      "text/plain": [
       "[1] 10"
      ]
     },
     "metadata": {},
     "output_type": "display_data"
    },
    {
     "data": {
      "text/html": [
       "12"
      ],
      "text/latex": [
       "12"
      ],
      "text/markdown": [
       "12"
      ],
      "text/plain": [
       "[1] 12"
      ]
     },
     "metadata": {},
     "output_type": "display_data"
    },
    {
     "data": {
      "text/html": [
       "11"
      ],
      "text/latex": [
       "11"
      ],
      "text/markdown": [
       "11"
      ],
      "text/plain": [
       "[1] 11"
      ]
     },
     "metadata": {},
     "output_type": "display_data"
    },
    {
     "data": {
      "text/html": [
       "10"
      ],
      "text/latex": [
       "10"
      ],
      "text/markdown": [
       "10"
      ],
      "text/plain": [
       "[1] 10"
      ]
     },
     "metadata": {},
     "output_type": "display_data"
    },
    {
     "data": {
      "text/html": [
       "1.73205080756888"
      ],
      "text/latex": [
       "1.73205080756888"
      ],
      "text/markdown": [
       "1.73205080756888"
      ],
      "text/plain": [
       "[1] 1.732051"
      ]
     },
     "metadata": {},
     "output_type": "display_data"
    },
    {
     "data": {
      "text/html": [
       "3"
      ],
      "text/latex": [
       "3"
      ],
      "text/markdown": [
       "3"
      ],
      "text/plain": [
       "[1] 3"
      ]
     },
     "metadata": {},
     "output_type": "display_data"
    },
    {
     "data": {
      "text/html": [
       "FALSE"
      ],
      "text/latex": [
       "FALSE"
      ],
      "text/markdown": [
       "FALSE"
      ],
      "text/plain": [
       "[1] FALSE"
      ]
     },
     "metadata": {},
     "output_type": "display_data"
    },
    {
     "data": {
      "text/html": [
       "TRUE"
      ],
      "text/latex": [
       "TRUE"
      ],
      "text/markdown": [
       "TRUE"
      ],
      "text/plain": [
       "[1] TRUE"
      ]
     },
     "metadata": {},
     "output_type": "display_data"
    },
    {
     "data": {
      "text/html": [
       "3.14159265358979"
      ],
      "text/latex": [
       "3.14159265358979"
      ],
      "text/markdown": [
       "3.14159265358979"
      ],
      "text/plain": [
       "[1] 3.141593"
      ]
     },
     "metadata": {},
     "output_type": "display_data"
    },
    {
     "data": {
      "text/html": [
       "2.71828182845905"
      ],
      "text/latex": [
       "2.71828182845905"
      ],
      "text/markdown": [
       "2.71828182845905"
      ],
      "text/plain": [
       "[1] 2.718282"
      ]
     },
     "metadata": {},
     "output_type": "display_data"
    },
    {
     "data": {
      "text/html": [
       "20.0855369231877"
      ],
      "text/latex": [
       "20.0855369231877"
      ],
      "text/markdown": [
       "20.0855369231877"
      ],
      "text/plain": [
       "[1] 20.08554"
      ]
     },
     "metadata": {},
     "output_type": "display_data"
    }
   ],
   "source": [
    "round(10.5, 0)  # La cifra es par   10 -> cte\n",
    "round(11.5, 0)  # La cifra es impar 12 -> sube \n",
    "\n",
    "ceiling(10.5) \n",
    "floor(10.5)\n",
    "\n",
    "sqrt(3)\n",
    "sqrt(3)^2\n",
    "sqrt(3)^2 == 3   # FALSE\n",
    "sqrt(9)^2 == 9   # TRUE\n",
    "\n",
    "pi\n",
    "exp(1)\n",
    "exp(3)"
   ]
  },
  {
   "cell_type": "markdown",
   "id": "a8c19bc1",
   "metadata": {},
   "source": [
    "# ln logaritmo natural"
   ]
  },
  {
   "cell_type": "code",
   "execution_count": 8,
   "id": "27cda165",
   "metadata": {},
   "outputs": [
    {
     "data": {
      "text/html": [
       "3"
      ],
      "text/latex": [
       "3"
      ],
      "text/markdown": [
       "3"
      ],
      "text/plain": [
       "[1] 3"
      ]
     },
     "metadata": {},
     "output_type": "display_data"
    },
    {
     "data": {
      "text/html": [
       "1.65321251377534"
      ],
      "text/latex": [
       "1.65321251377534"
      ],
      "text/markdown": [
       "1.65321251377534"
      ],
      "text/plain": [
       "[1] 1.653213"
      ]
     },
     "metadata": {},
     "output_type": "display_data"
    },
    {
     "data": {
      "text/html": [
       "5"
      ],
      "text/latex": [
       "5"
      ],
      "text/markdown": [
       "5"
      ],
      "text/plain": [
       "[1] 5"
      ]
     },
     "metadata": {},
     "output_type": "display_data"
    }
   ],
   "source": [
    "log(exp(3))\n",
    "log10(45)\n",
    "log2(32)"
   ]
  },
  {
   "cell_type": "markdown",
   "id": "34e624b3",
   "metadata": {},
   "source": [
    "# Calcule la siguiente expresión, asigne al objeto la\n",
    "# formula y muestre su valor"
   ]
  },
  {
   "cell_type": "code",
   "execution_count": 9,
   "id": "27755e3e",
   "metadata": {},
   "outputs": [
    {
     "data": {
      "text/html": [
       "26.5989190917931"
      ],
      "text/latex": [
       "26.5989190917931"
      ],
      "text/markdown": [
       "26.5989190917931"
      ],
      "text/plain": [
       "[1] 26.59892"
      ]
     },
     "metadata": {},
     "output_type": "display_data"
    }
   ],
   "source": [
    "f <- (sqrt(40+25*3.5)/log10(35))+((40+25)/35)*(exp(2)+log(20))\n",
    "f"
   ]
  },
  {
   "cell_type": "markdown",
   "id": "f653ca8d",
   "metadata": {},
   "source": [
    "# Datos character"
   ]
  },
  {
   "cell_type": "code",
   "execution_count": 10,
   "id": "76a06e04",
   "metadata": {},
   "outputs": [
    {
     "data": {
      "text/html": [
       "'fuga'"
      ],
      "text/latex": [
       "'fuga'"
      ],
      "text/markdown": [
       "'fuga'"
      ],
      "text/plain": [
       "[1] \"fuga\""
      ]
     },
     "metadata": {},
     "output_type": "display_data"
    },
    {
     "data": {
      "text/html": [
       "'character'"
      ],
      "text/latex": [
       "'character'"
      ],
      "text/markdown": [
       "'character'"
      ],
      "text/plain": [
       "[1] \"character\""
      ]
     },
     "metadata": {},
     "output_type": "display_data"
    },
    {
     "data": {
      "text/html": [
       "TRUE"
      ],
      "text/latex": [
       "TRUE"
      ],
      "text/markdown": [
       "TRUE"
      ],
      "text/plain": [
       "[1] TRUE"
      ]
     },
     "metadata": {},
     "output_type": "display_data"
    }
   ],
   "source": [
    "c1 <- \"fuga\"\n",
    "c1\n",
    "class(c1)\n",
    "\n",
    "c2 <- \"no fuga\"\n",
    "\n",
    "is.character(c1)"
   ]
  },
  {
   "cell_type": "markdown",
   "id": "4f030dca",
   "metadata": {},
   "source": [
    "# Datos lógicos"
   ]
  },
  {
   "cell_type": "code",
   "execution_count": 15,
   "id": "797cc17a",
   "metadata": {},
   "outputs": [
    {
     "data": {
      "text/html": [
       "'logical'"
      ],
      "text/latex": [
       "'logical'"
      ],
      "text/markdown": [
       "'logical'"
      ],
      "text/plain": [
       "[1] \"logical\""
      ]
     },
     "metadata": {},
     "output_type": "display_data"
    },
    {
     "data": {
      "text/html": [
       "TRUE"
      ],
      "text/latex": [
       "TRUE"
      ],
      "text/markdown": [
       "TRUE"
      ],
      "text/plain": [
       "[1] TRUE"
      ]
     },
     "metadata": {},
     "output_type": "display_data"
    },
    {
     "data": {
      "text/html": [
       "FALSE"
      ],
      "text/latex": [
       "FALSE"
      ],
      "text/markdown": [
       "FALSE"
      ],
      "text/plain": [
       "[1] FALSE"
      ]
     },
     "metadata": {},
     "output_type": "display_data"
    },
    {
     "data": {
      "text/html": [
       "TRUE"
      ],
      "text/latex": [
       "TRUE"
      ],
      "text/markdown": [
       "TRUE"
      ],
      "text/plain": [
       "[1] TRUE"
      ]
     },
     "metadata": {},
     "output_type": "display_data"
    },
    {
     "data": {
      "text/html": [
       "FALSE"
      ],
      "text/latex": [
       "FALSE"
      ],
      "text/markdown": [
       "FALSE"
      ],
      "text/plain": [
       "[1] FALSE"
      ]
     },
     "metadata": {},
     "output_type": "display_data"
    },
    {
     "data": {
      "text/html": [
       "FALSE"
      ],
      "text/latex": [
       "FALSE"
      ],
      "text/markdown": [
       "FALSE"
      ],
      "text/plain": [
       "[1] FALSE"
      ]
     },
     "metadata": {},
     "output_type": "display_data"
    },
    {
     "data": {
      "text/html": [
       "TRUE"
      ],
      "text/latex": [
       "TRUE"
      ],
      "text/markdown": [
       "TRUE"
      ],
      "text/plain": [
       "[1] TRUE"
      ]
     },
     "metadata": {},
     "output_type": "display_data"
    },
    {
     "data": {
      "text/html": [
       "TRUE"
      ],
      "text/latex": [
       "TRUE"
      ],
      "text/markdown": [
       "TRUE"
      ],
      "text/plain": [
       "[1] TRUE"
      ]
     },
     "metadata": {},
     "output_type": "display_data"
    },
    {
     "data": {
      "text/html": [
       "FALSE"
      ],
      "text/latex": [
       "FALSE"
      ],
      "text/markdown": [
       "FALSE"
      ],
      "text/plain": [
       "[1] FALSE"
      ]
     },
     "metadata": {},
     "output_type": "display_data"
    },
    {
     "data": {
      "text/html": [
       "TRUE"
      ],
      "text/latex": [
       "TRUE"
      ],
      "text/markdown": [
       "TRUE"
      ],
      "text/plain": [
       "[1] TRUE"
      ]
     },
     "metadata": {},
     "output_type": "display_data"
    }
   ],
   "source": [
    "d1 <- TRUE\n",
    "d2 <- FALSE\n",
    "d3 <- T\n",
    "d4 <- F\n",
    "\n",
    "class(d1)\n",
    "\n",
    "d1\n",
    "d2\n",
    "d3\n",
    "\n",
    "!d1\n",
    "d1 & d2\n",
    "d1 | d2\n",
    "is.logical(d2)\n",
    "is.logical(f1)\n",
    "\n",
    "3 == 5 | 2 == 2*1"
   ]
  },
  {
   "cell_type": "markdown",
   "id": "76d9b3f4",
   "metadata": {},
   "source": [
    "### ESTRUCTURAS DE DATOS ###\n",
    "\n",
    "# 7. Vectores -------------------------------------------------\n",
    "# Un vector es una serie de valores en un orden determinado.\n",
    "# Almacena datos del mismo tipo. Para crear un vector: c(,)"
   ]
  },
  {
   "cell_type": "code",
   "execution_count": 3,
   "id": "aac60f07",
   "metadata": {},
   "outputs": [
    {
     "data": {
      "text/html": [
       "<ol class=list-inline>\n",
       "\t<li>'Jose'</li>\n",
       "\t<li>'Luisa'</li>\n",
       "\t<li>'MarÃ­a'</li>\n",
       "\t<li>'Marco'</li>\n",
       "</ol>\n"
      ],
      "text/latex": [
       "\\begin{enumerate*}\n",
       "\\item 'Jose'\n",
       "\\item 'Luisa'\n",
       "\\item 'MarÃ­a'\n",
       "\\item 'Marco'\n",
       "\\end{enumerate*}\n"
      ],
      "text/markdown": [
       "1. 'Jose'\n",
       "2. 'Luisa'\n",
       "3. 'MarÃ­a'\n",
       "4. 'Marco'\n",
       "\n",
       "\n"
      ],
      "text/plain": [
       "[1] \"Jose\"   \"Luisa\"  \"MarÃ­a\" \"Marco\" "
      ]
     },
     "metadata": {},
     "output_type": "display_data"
    },
    {
     "data": {
      "text/html": [
       "'character'"
      ],
      "text/latex": [
       "'character'"
      ],
      "text/markdown": [
       "'character'"
      ],
      "text/plain": [
       "[1] \"character\""
      ]
     },
     "metadata": {},
     "output_type": "display_data"
    },
    {
     "data": {
      "text/html": [
       "'character'"
      ],
      "text/latex": [
       "'character'"
      ],
      "text/markdown": [
       "'character'"
      ],
      "text/plain": [
       "[1] \"character\""
      ]
     },
     "metadata": {},
     "output_type": "display_data"
    },
    {
     "data": {
      "text/html": [
       "4"
      ],
      "text/latex": [
       "4"
      ],
      "text/markdown": [
       "4"
      ],
      "text/plain": [
       "[1] 4"
      ]
     },
     "metadata": {},
     "output_type": "display_data"
    },
    {
     "data": {
      "text/html": [
       "<ol class=list-inline>\n",
       "\t<li>'Jose'</li>\n",
       "\t<li>'Luisa'</li>\n",
       "\t<li>'Mañana'</li>\n",
       "\t<li>'525'</li>\n",
       "</ol>\n"
      ],
      "text/latex": [
       "\\begin{enumerate*}\n",
       "\\item 'Jose'\n",
       "\\item 'Luisa'\n",
       "\\item 'Mañana'\n",
       "\\item '525'\n",
       "\\end{enumerate*}\n"
      ],
      "text/markdown": [
       "1. 'Jose'\n",
       "2. 'Luisa'\n",
       "3. 'Mañana'\n",
       "4. '525'\n",
       "\n",
       "\n"
      ],
      "text/plain": [
       "[1] \"Jose\"   \"Luisa\"  \"Mañana\" \"525\"   "
      ]
     },
     "metadata": {},
     "output_type": "display_data"
    },
    {
     "data": {
      "text/html": [
       "'character'"
      ],
      "text/latex": [
       "'character'"
      ],
      "text/markdown": [
       "'character'"
      ],
      "text/plain": [
       "[1] \"character\""
      ]
     },
     "metadata": {},
     "output_type": "display_data"
    },
    {
     "data": {
      "text/html": [
       "<ol class=list-inline>\n",
       "\t<li>15</li>\n",
       "\t<li>20</li>\n",
       "\t<li>60</li>\n",
       "\t<li>75</li>\n",
       "</ol>\n"
      ],
      "text/latex": [
       "\\begin{enumerate*}\n",
       "\\item 15\n",
       "\\item 20\n",
       "\\item 60\n",
       "\\item 75\n",
       "\\end{enumerate*}\n"
      ],
      "text/markdown": [
       "1. 15\n",
       "2. 20\n",
       "3. 60\n",
       "4. 75\n",
       "\n",
       "\n"
      ],
      "text/plain": [
       "[1] 15 20 60 75"
      ]
     },
     "metadata": {},
     "output_type": "display_data"
    },
    {
     "data": {
      "text/html": [
       "'numeric'"
      ],
      "text/latex": [
       "'numeric'"
      ],
      "text/markdown": [
       "'numeric'"
      ],
      "text/plain": [
       "[1] \"numeric\""
      ]
     },
     "metadata": {},
     "output_type": "display_data"
    },
    {
     "data": {
      "text/html": [
       "4"
      ],
      "text/latex": [
       "4"
      ],
      "text/markdown": [
       "4"
      ],
      "text/plain": [
       "[1] 4"
      ]
     },
     "metadata": {},
     "output_type": "display_data"
    },
    {
     "data": {
      "text/html": [
       "<ol class=list-inline>\n",
       "\t<li>13</li>\n",
       "\t<li>18</li>\n",
       "\t<li>58</li>\n",
       "\t<li>73</li>\n",
       "</ol>\n"
      ],
      "text/latex": [
       "\\begin{enumerate*}\n",
       "\\item 13\n",
       "\\item 18\n",
       "\\item 58\n",
       "\\item 73\n",
       "\\end{enumerate*}\n"
      ],
      "text/markdown": [
       "1. 13\n",
       "2. 18\n",
       "3. 58\n",
       "4. 73\n",
       "\n",
       "\n"
      ],
      "text/plain": [
       "[1] 13 18 58 73"
      ]
     },
     "metadata": {},
     "output_type": "display_data"
    },
    {
     "data": {
      "text/html": [
       "<ol class=list-inline>\n",
       "\t<li>7.5</li>\n",
       "\t<li>10</li>\n",
       "\t<li>30</li>\n",
       "\t<li>37.5</li>\n",
       "</ol>\n"
      ],
      "text/latex": [
       "\\begin{enumerate*}\n",
       "\\item 7.5\n",
       "\\item 10\n",
       "\\item 30\n",
       "\\item 37.5\n",
       "\\end{enumerate*}\n"
      ],
      "text/markdown": [
       "1. 7.5\n",
       "2. 10\n",
       "3. 30\n",
       "4. 37.5\n",
       "\n",
       "\n"
      ],
      "text/plain": [
       "[1]  7.5 10.0 30.0 37.5"
      ]
     },
     "metadata": {},
     "output_type": "display_data"
    },
    {
     "data": {
      "text/html": [
       "<ol class=list-inline>\n",
       "\t<li>20.5</li>\n",
       "\t<li>28</li>\n",
       "\t<li>88</li>\n",
       "\t<li>110.5</li>\n",
       "</ol>\n"
      ],
      "text/latex": [
       "\\begin{enumerate*}\n",
       "\\item 20.5\n",
       "\\item 28\n",
       "\\item 88\n",
       "\\item 110.5\n",
       "\\end{enumerate*}\n"
      ],
      "text/markdown": [
       "1. 20.5\n",
       "2. 28\n",
       "3. 88\n",
       "4. 110.5\n",
       "\n",
       "\n"
      ],
      "text/plain": [
       "[1]  20.5  28.0  88.0 110.5"
      ]
     },
     "metadata": {},
     "output_type": "display_data"
    },
    {
     "data": {
      "text/html": [
       "<ol class=list-inline>\n",
       "\t<li>28</li>\n",
       "\t<li>38</li>\n",
       "\t<li>118</li>\n",
       "\t<li>148</li>\n",
       "\t<li>28</li>\n",
       "\t<li>38</li>\n",
       "\t<li>118</li>\n",
       "\t<li>148</li>\n",
       "</ol>\n"
      ],
      "text/latex": [
       "\\begin{enumerate*}\n",
       "\\item 28\n",
       "\\item 38\n",
       "\\item 118\n",
       "\\item 148\n",
       "\\item 28\n",
       "\\item 38\n",
       "\\item 118\n",
       "\\item 148\n",
       "\\end{enumerate*}\n"
      ],
      "text/markdown": [
       "1. 28\n",
       "2. 38\n",
       "3. 118\n",
       "4. 148\n",
       "5. 28\n",
       "6. 38\n",
       "7. 118\n",
       "8. 148\n",
       "\n",
       "\n"
      ],
      "text/plain": [
       "[1]  28  38 118 148  28  38 118 148"
      ]
     },
     "metadata": {},
     "output_type": "display_data"
    },
    {
     "data": {
      "text/html": [
       "20"
      ],
      "text/latex": [
       "20"
      ],
      "text/markdown": [
       "20"
      ],
      "text/plain": [
       "[1] 20"
      ]
     },
     "metadata": {},
     "output_type": "display_data"
    },
    {
     "data": {
      "text/html": [
       "<ol class=list-inline>\n",
       "\t<li>20</li>\n",
       "\t<li>60</li>\n",
       "</ol>\n"
      ],
      "text/latex": [
       "\\begin{enumerate*}\n",
       "\\item 20\n",
       "\\item 60\n",
       "\\end{enumerate*}\n"
      ],
      "text/markdown": [
       "1. 20\n",
       "2. 60\n",
       "\n",
       "\n"
      ],
      "text/plain": [
       "[1] 20 60"
      ]
     },
     "metadata": {},
     "output_type": "display_data"
    },
    {
     "data": {
      "text/html": [
       "<ol class=list-inline>\n",
       "\t<li>15</li>\n",
       "\t<li>60</li>\n",
       "\t<li>75</li>\n",
       "</ol>\n"
      ],
      "text/latex": [
       "\\begin{enumerate*}\n",
       "\\item 15\n",
       "\\item 60\n",
       "\\item 75\n",
       "\\end{enumerate*}\n"
      ],
      "text/markdown": [
       "1. 15\n",
       "2. 60\n",
       "3. 75\n",
       "\n",
       "\n"
      ],
      "text/plain": [
       "[1] 15 60 75"
      ]
     },
     "metadata": {},
     "output_type": "display_data"
    }
   ],
   "source": [
    "nombres <- c(\"Jose\", \"Luisa\", \"MarÃ­a\", \"Marco\")\n",
    "nombres\n",
    "\n",
    "class(nombres)\n",
    "typeof(nombres)  # es similar a class()\n",
    "length(nombres)\n",
    "\n",
    "name <- c(\"Jose\", \"Luisa\", \"Mañana\", 525)\n",
    "name\n",
    "class(name)\n",
    "\n",
    "dias <- c(15, 20, 60, 75)\n",
    "dias\n",
    "class(dias)\n",
    "length(name)\n",
    "\n",
    "# Operaciones con vectores\n",
    "dias2 <- dias - 2\n",
    "dias2\n",
    "dias3 <- dias / 2\n",
    "dias3\n",
    "dias4 <- dias2+dias3\n",
    "dias4\n",
    "dias5 <- c(15, 20, 60, 75, 15, 20, 60, 75)\n",
    "dias2+dias5\n",
    "\n",
    "# Acceder al segundo elemento en el vector dÃ­as\n",
    "dias[2]\n",
    "\n",
    "# Incluir los datos en el rango de 2 a 3 \n",
    "dias[2:3]\n",
    "\n",
    "# Excluir el item 2 usando el signo menos\n",
    "dias[-2]"
   ]
  },
  {
   "cell_type": "code",
   "execution_count": 7,
   "id": "ee148b54",
   "metadata": {},
   "outputs": [
    {
     "data": {
      "text/html": [
       "<ol class=list-inline>\n",
       "\t<li>FALSE</li>\n",
       "\t<li>FALSE</li>\n",
       "\t<li>TRUE</li>\n",
       "\t<li>TRUE</li>\n",
       "</ol>\n"
      ],
      "text/latex": [
       "\\begin{enumerate*}\n",
       "\\item FALSE\n",
       "\\item FALSE\n",
       "\\item TRUE\n",
       "\\item TRUE\n",
       "\\end{enumerate*}\n"
      ],
      "text/markdown": [
       "1. FALSE\n",
       "2. FALSE\n",
       "3. TRUE\n",
       "4. TRUE\n",
       "\n",
       "\n"
      ],
      "text/plain": [
       "[1] FALSE FALSE  TRUE  TRUE"
      ]
     },
     "metadata": {},
     "output_type": "display_data"
    },
    {
     "data": {
      "text/html": [
       "'logical'"
      ],
      "text/latex": [
       "'logical'"
      ],
      "text/markdown": [
       "'logical'"
      ],
      "text/plain": [
       "[1] \"logical\""
      ]
     },
     "metadata": {},
     "output_type": "display_data"
    },
    {
     "data": {
      "text/html": [
       "<ol class=list-inline>\n",
       "\t<li>FALSE</li>\n",
       "\t<li>FALSE</li>\n",
       "\t<li>TRUE</li>\n",
       "\t<li>TRUE</li>\n",
       "</ol>\n"
      ],
      "text/latex": [
       "\\begin{enumerate*}\n",
       "\\item FALSE\n",
       "\\item FALSE\n",
       "\\item TRUE\n",
       "\\item TRUE\n",
       "\\end{enumerate*}\n"
      ],
      "text/markdown": [
       "1. FALSE\n",
       "2. FALSE\n",
       "3. TRUE\n",
       "4. TRUE\n",
       "\n",
       "\n"
      ],
      "text/plain": [
       "[1] FALSE FALSE  TRUE  TRUE"
      ]
     },
     "metadata": {},
     "output_type": "display_data"
    },
    {
     "data": {
      "text/html": [
       "'logical'"
      ],
      "text/latex": [
       "'logical'"
      ],
      "text/markdown": [
       "'logical'"
      ],
      "text/plain": [
       "[1] \"logical\""
      ]
     },
     "metadata": {},
     "output_type": "display_data"
    },
    {
     "data": {
      "text/html": [
       "'character'"
      ],
      "text/latex": [
       "'character'"
      ],
      "text/markdown": [
       "'character'"
      ],
      "text/plain": [
       "[1] \"character\""
      ]
     },
     "metadata": {},
     "output_type": "display_data"
    },
    {
     "data": {
      "text/html": [
       "'factor'"
      ],
      "text/latex": [
       "'factor'"
      ],
      "text/markdown": [
       "'factor'"
      ],
      "text/plain": [
       "[1] \"factor\""
      ]
     },
     "metadata": {},
     "output_type": "display_data"
    },
    {
     "data": {
      "text/html": [
       "TRUE"
      ],
      "text/latex": [
       "TRUE"
      ],
      "text/markdown": [
       "TRUE"
      ],
      "text/plain": [
       "[1] TRUE"
      ]
     },
     "metadata": {},
     "output_type": "display_data"
    },
    {
     "data": {
      "text/html": [
       "<ol class=list-inline>\n",
       "\t<li>Masculino</li>\n",
       "\t<li>Femenino</li>\n",
       "\t<li>Femenino</li>\n",
       "\t<li>Masculino</li>\n",
       "</ol>\n",
       "\n",
       "<details>\n",
       "\t<summary style=display:list-item;cursor:pointer>\n",
       "\t\t<strong>Levels</strong>:\n",
       "\t</summary>\n",
       "\t<ol class=list-inline>\n",
       "\t\t<li>'Femenino'</li>\n",
       "\t\t<li>'Masculino'</li>\n",
       "\t</ol>\n",
       "</details>"
      ],
      "text/latex": [
       "\\begin{enumerate*}\n",
       "\\item Masculino\n",
       "\\item Femenino\n",
       "\\item Femenino\n",
       "\\item Masculino\n",
       "\\end{enumerate*}\n",
       "\n",
       "\\emph{Levels}: \\begin{enumerate*}\n",
       "\\item 'Femenino'\n",
       "\\item 'Masculino'\n",
       "\\end{enumerate*}\n"
      ],
      "text/markdown": [
       "1. Masculino\n",
       "2. Femenino\n",
       "3. Femenino\n",
       "4. Masculino\n",
       "\n",
       "\n",
       "\n",
       "**Levels**: 1. 'Femenino'\n",
       "2. 'Masculino'\n",
       "\n",
       "\n"
      ],
      "text/plain": [
       "[1] Masculino Femenino  Femenino  Masculino\n",
       "Levels: Femenino Masculino"
      ]
     },
     "metadata": {},
     "output_type": "display_data"
    },
    {
     "data": {
      "text/html": [
       "'factor'"
      ],
      "text/latex": [
       "'factor'"
      ],
      "text/markdown": [
       "'factor'"
      ],
      "text/plain": [
       "[1] \"factor\""
      ]
     },
     "metadata": {},
     "output_type": "display_data"
    },
    {
     "data": {
      "text/html": [
       "'factor'"
      ],
      "text/latex": [
       "'factor'"
      ],
      "text/markdown": [
       "'factor'"
      ],
      "text/plain": [
       "[1] \"factor\""
      ]
     },
     "metadata": {},
     "output_type": "display_data"
    },
    {
     "data": {
      "text/html": [
       "<ol class=list-inline>\n",
       "\t<li>Masculino</li>\n",
       "\t<li>Femenino</li>\n",
       "\t<li>Femenino</li>\n",
       "\t<li>Masculino</li>\n",
       "</ol>\n",
       "\n",
       "<details>\n",
       "\t<summary style=display:list-item;cursor:pointer>\n",
       "\t\t<strong>Levels</strong>:\n",
       "\t</summary>\n",
       "\t<ol class=list-inline>\n",
       "\t\t<li>'Femenino'</li>\n",
       "\t\t<li>'Masculino'</li>\n",
       "\t</ol>\n",
       "</details>"
      ],
      "text/latex": [
       "\\begin{enumerate*}\n",
       "\\item Masculino\n",
       "\\item Femenino\n",
       "\\item Femenino\n",
       "\\item Masculino\n",
       "\\end{enumerate*}\n",
       "\n",
       "\\emph{Levels}: \\begin{enumerate*}\n",
       "\\item 'Femenino'\n",
       "\\item 'Masculino'\n",
       "\\end{enumerate*}\n"
      ],
      "text/markdown": [
       "1. Masculino\n",
       "2. Femenino\n",
       "3. Femenino\n",
       "4. Masculino\n",
       "\n",
       "\n",
       "\n",
       "**Levels**: 1. 'Femenino'\n",
       "2. 'Masculino'\n",
       "\n",
       "\n"
      ],
      "text/plain": [
       "[1] Masculino Femenino  Femenino  Masculino\n",
       "Levels: Femenino Masculino"
      ]
     },
     "metadata": {},
     "output_type": "display_data"
    },
    {
     "data": {
      "text/html": [
       "<ol class=list-inline>\n",
       "\t<li>M</li>\n",
       "\t<li>F</li>\n",
       "\t<li>F</li>\n",
       "\t<li>M</li>\n",
       "</ol>\n",
       "\n",
       "<details>\n",
       "\t<summary style=display:list-item;cursor:pointer>\n",
       "\t\t<strong>Levels</strong>:\n",
       "\t</summary>\n",
       "\t<ol class=list-inline>\n",
       "\t\t<li>'M'</li>\n",
       "\t\t<li>'F'</li>\n",
       "\t</ol>\n",
       "</details>"
      ],
      "text/latex": [
       "\\begin{enumerate*}\n",
       "\\item M\n",
       "\\item F\n",
       "\\item F\n",
       "\\item M\n",
       "\\end{enumerate*}\n",
       "\n",
       "\\emph{Levels}: \\begin{enumerate*}\n",
       "\\item 'M'\n",
       "\\item 'F'\n",
       "\\end{enumerate*}\n"
      ],
      "text/markdown": [
       "1. M\n",
       "2. F\n",
       "3. F\n",
       "4. M\n",
       "\n",
       "\n",
       "\n",
       "**Levels**: 1. 'M'\n",
       "2. 'F'\n",
       "\n",
       "\n"
      ],
      "text/plain": [
       "[1] M F F M\n",
       "Levels: M F"
      ]
     },
     "metadata": {},
     "output_type": "display_data"
    },
    {
     "data": {
      "text/plain": [
       "genero2\n",
       "M F \n",
       "2 2 "
      ]
     },
     "metadata": {},
     "output_type": "display_data"
    },
    {
     "data": {
      "text/html": [
       "<ol class=list-inline>\n",
       "\t<li>Hombre</li>\n",
       "\t<li>Mujer</li>\n",
       "\t<li>Mujer</li>\n",
       "\t<li>Hombre</li>\n",
       "</ol>\n",
       "\n",
       "<details>\n",
       "\t<summary style=display:list-item;cursor:pointer>\n",
       "\t\t<strong>Levels</strong>:\n",
       "\t</summary>\n",
       "\t<ol class=list-inline>\n",
       "\t\t<li>'Hombre'</li>\n",
       "\t\t<li>'Mujer'</li>\n",
       "\t</ol>\n",
       "</details>"
      ],
      "text/latex": [
       "\\begin{enumerate*}\n",
       "\\item Hombre\n",
       "\\item Mujer\n",
       "\\item Mujer\n",
       "\\item Hombre\n",
       "\\end{enumerate*}\n",
       "\n",
       "\\emph{Levels}: \\begin{enumerate*}\n",
       "\\item 'Hombre'\n",
       "\\item 'Mujer'\n",
       "\\end{enumerate*}\n"
      ],
      "text/markdown": [
       "1. Hombre\n",
       "2. Mujer\n",
       "3. Mujer\n",
       "4. Hombre\n",
       "\n",
       "\n",
       "\n",
       "**Levels**: 1. 'Hombre'\n",
       "2. 'Mujer'\n",
       "\n",
       "\n"
      ],
      "text/plain": [
       "[1] Hombre Mujer  Mujer  Hombre\n",
       "Levels: Hombre Mujer"
      ]
     },
     "metadata": {},
     "output_type": "display_data"
    },
    {
     "data": {
      "text/html": [
       "<ol class=list-inline>\n",
       "\t<li>Macho</li>\n",
       "\t<li>Hembra</li>\n",
       "\t<li>Hembra</li>\n",
       "\t<li>Macho</li>\n",
       "</ol>\n",
       "\n",
       "<details>\n",
       "\t<summary style=display:list-item;cursor:pointer>\n",
       "\t\t<strong>Levels</strong>:\n",
       "\t</summary>\n",
       "\t<ol class=list-inline>\n",
       "\t\t<li>'Macho'</li>\n",
       "\t\t<li>'Hembra'</li>\n",
       "\t</ol>\n",
       "</details>"
      ],
      "text/latex": [
       "\\begin{enumerate*}\n",
       "\\item Macho\n",
       "\\item Hembra\n",
       "\\item Hembra\n",
       "\\item Macho\n",
       "\\end{enumerate*}\n",
       "\n",
       "\\emph{Levels}: \\begin{enumerate*}\n",
       "\\item 'Macho'\n",
       "\\item 'Hembra'\n",
       "\\end{enumerate*}\n"
      ],
      "text/markdown": [
       "1. Macho\n",
       "2. Hembra\n",
       "3. Hembra\n",
       "4. Macho\n",
       "\n",
       "\n",
       "\n",
       "**Levels**: 1. 'Macho'\n",
       "2. 'Hembra'\n",
       "\n",
       "\n"
      ],
      "text/plain": [
       "[1] Macho  Hembra Hembra Macho \n",
       "Levels: Macho Hembra"
      ]
     },
     "metadata": {},
     "output_type": "display_data"
    },
    {
     "data": {
      "text/html": [
       "<ol class=list-inline>\n",
       "\t<li>H</li>\n",
       "\t<li>F</li>\n",
       "\t<li>F</li>\n",
       "\t<li>H</li>\n",
       "</ol>\n",
       "\n",
       "<details>\n",
       "\t<summary style=display:list-item;cursor:pointer>\n",
       "\t\t<strong>Levels</strong>:\n",
       "\t</summary>\n",
       "\t<ol class=list-inline>\n",
       "\t\t<li>'H'</li>\n",
       "\t\t<li>'F'</li>\n",
       "\t</ol>\n",
       "</details>"
      ],
      "text/latex": [
       "\\begin{enumerate*}\n",
       "\\item H\n",
       "\\item F\n",
       "\\item F\n",
       "\\item H\n",
       "\\end{enumerate*}\n",
       "\n",
       "\\emph{Levels}: \\begin{enumerate*}\n",
       "\\item 'H'\n",
       "\\item 'F'\n",
       "\\end{enumerate*}\n"
      ],
      "text/markdown": [
       "1. H\n",
       "2. F\n",
       "3. F\n",
       "4. H\n",
       "\n",
       "\n",
       "\n",
       "**Levels**: 1. 'H'\n",
       "2. 'F'\n",
       "\n",
       "\n"
      ],
      "text/plain": [
       "[1] H F F H\n",
       "Levels: H F"
      ]
     },
     "metadata": {},
     "output_type": "display_data"
    },
    {
     "data": {
      "text/html": [
       "<ol class=list-inline>\n",
       "\t<li>A</li>\n",
       "\t<li>C</li>\n",
       "\t<li>B</li>\n",
       "\t<li>C</li>\n",
       "\t<li>A</li>\n",
       "\t<li>B</li>\n",
       "\t<li>A</li>\n",
       "\t<li>C</li>\n",
       "\t<li>D</li>\n",
       "</ol>\n",
       "\n",
       "<details>\n",
       "\t<summary style=display:list-item;cursor:pointer>\n",
       "\t\t<strong>Levels</strong>:\n",
       "\t</summary>\n",
       "\t<ol class=list-inline>\n",
       "\t\t<li>'D'</li>\n",
       "\t\t<li>'C'</li>\n",
       "\t\t<li>'B'</li>\n",
       "\t\t<li>'A'</li>\n",
       "\t</ol>\n",
       "</details>"
      ],
      "text/latex": [
       "\\begin{enumerate*}\n",
       "\\item A\n",
       "\\item C\n",
       "\\item B\n",
       "\\item C\n",
       "\\item A\n",
       "\\item B\n",
       "\\item A\n",
       "\\item C\n",
       "\\item D\n",
       "\\end{enumerate*}\n",
       "\n",
       "\\emph{Levels}: \\begin{enumerate*}\n",
       "\\item 'D'\n",
       "\\item 'C'\n",
       "\\item 'B'\n",
       "\\item 'A'\n",
       "\\end{enumerate*}\n"
      ],
      "text/markdown": [
       "1. A\n",
       "2. C\n",
       "3. B\n",
       "4. C\n",
       "5. A\n",
       "6. B\n",
       "7. A\n",
       "8. C\n",
       "9. D\n",
       "\n",
       "\n",
       "\n",
       "**Levels**: 1. 'D'\n",
       "2. 'C'\n",
       "3. 'B'\n",
       "4. 'A'\n",
       "\n",
       "\n"
      ],
      "text/plain": [
       "[1] A C B C A B A C D\n",
       "Levels: D < C < B < A"
      ]
     },
     "metadata": {},
     "output_type": "display_data"
    },
    {
     "data": {
      "text/html": [
       "<ol class=list-inline>\n",
       "\t<li>'ordered'</li>\n",
       "\t<li>'factor'</li>\n",
       "</ol>\n"
      ],
      "text/latex": [
       "\\begin{enumerate*}\n",
       "\\item 'ordered'\n",
       "\\item 'factor'\n",
       "\\end{enumerate*}\n"
      ],
      "text/markdown": [
       "1. 'ordered'\n",
       "2. 'factor'\n",
       "\n",
       "\n"
      ],
      "text/plain": [
       "[1] \"ordered\" \"factor\" "
      ]
     },
     "metadata": {},
     "output_type": "display_data"
    },
    {
     "data": {
      "text/plain": [
       "nivel\n",
       "D C B A \n",
       "1 3 2 3 "
      ]
     },
     "metadata": {},
     "output_type": "display_data"
    },
    {
     "data": {
      "text/html": [
       "<ol class=list-inline>\n",
       "\t<li>M</li>\n",
       "\t<li>MB</li>\n",
       "\t<li>R</li>\n",
       "\t<li>M</li>\n",
       "\t<li>M</li>\n",
       "\t<li>MB</li>\n",
       "\t<li>B</li>\n",
       "\t<li>B</li>\n",
       "\t<li>B</li>\n",
       "</ol>\n",
       "\n",
       "<details>\n",
       "\t<summary style=display:list-item;cursor:pointer>\n",
       "\t\t<strong>Levels</strong>:\n",
       "\t</summary>\n",
       "\t<ol class=list-inline>\n",
       "\t\t<li>'M'</li>\n",
       "\t\t<li>'R'</li>\n",
       "\t\t<li>'B'</li>\n",
       "\t\t<li>'MB'</li>\n",
       "\t</ol>\n",
       "</details>"
      ],
      "text/latex": [
       "\\begin{enumerate*}\n",
       "\\item M\n",
       "\\item MB\n",
       "\\item R\n",
       "\\item M\n",
       "\\item M\n",
       "\\item MB\n",
       "\\item B\n",
       "\\item B\n",
       "\\item B\n",
       "\\end{enumerate*}\n",
       "\n",
       "\\emph{Levels}: \\begin{enumerate*}\n",
       "\\item 'M'\n",
       "\\item 'R'\n",
       "\\item 'B'\n",
       "\\item 'MB'\n",
       "\\end{enumerate*}\n"
      ],
      "text/markdown": [
       "1. M\n",
       "2. MB\n",
       "3. R\n",
       "4. M\n",
       "5. M\n",
       "6. MB\n",
       "7. B\n",
       "8. B\n",
       "9. B\n",
       "\n",
       "\n",
       "\n",
       "**Levels**: 1. 'M'\n",
       "2. 'R'\n",
       "3. 'B'\n",
       "4. 'MB'\n",
       "\n",
       "\n"
      ],
      "text/plain": [
       "[1] M  MB R  M  M  MB B  B  B \n",
       "Levels: M < R < B < MB"
      ]
     },
     "metadata": {},
     "output_type": "display_data"
    },
    {
     "data": {
      "text/html": [
       "<ol class=list-inline>\n",
       "\t<li>'ordered'</li>\n",
       "\t<li>'factor'</li>\n",
       "</ol>\n"
      ],
      "text/latex": [
       "\\begin{enumerate*}\n",
       "\\item 'ordered'\n",
       "\\item 'factor'\n",
       "\\end{enumerate*}\n"
      ],
      "text/markdown": [
       "1. 'ordered'\n",
       "2. 'factor'\n",
       "\n",
       "\n"
      ],
      "text/plain": [
       "[1] \"ordered\" \"factor\" "
      ]
     },
     "metadata": {},
     "output_type": "display_data"
    },
    {
     "data": {
      "text/plain": [
       "nivel2\n",
       " M  R  B MB \n",
       " 3  1  3  2 "
      ]
     },
     "metadata": {},
     "output_type": "display_data"
    },
    {
     "data": {
      "text/html": [
       "<ol class=list-inline>\n",
       "\t<li>A</li>\n",
       "\t<li>C</li>\n",
       "\t<li>B</li>\n",
       "\t<li>C</li>\n",
       "</ol>\n",
       "\n",
       "<details>\n",
       "\t<summary style=display:list-item;cursor:pointer>\n",
       "\t\t<strong>Levels</strong>:\n",
       "\t</summary>\n",
       "\t<ol class=list-inline>\n",
       "\t\t<li>'A'</li>\n",
       "\t\t<li>'B'</li>\n",
       "\t\t<li>'C'</li>\n",
       "\t\t<li>'D'</li>\n",
       "\t</ol>\n",
       "</details>"
      ],
      "text/latex": [
       "\\begin{enumerate*}\n",
       "\\item A\n",
       "\\item C\n",
       "\\item B\n",
       "\\item C\n",
       "\\end{enumerate*}\n",
       "\n",
       "\\emph{Levels}: \\begin{enumerate*}\n",
       "\\item 'A'\n",
       "\\item 'B'\n",
       "\\item 'C'\n",
       "\\item 'D'\n",
       "\\end{enumerate*}\n"
      ],
      "text/markdown": [
       "1. A\n",
       "2. C\n",
       "3. B\n",
       "4. C\n",
       "\n",
       "\n",
       "\n",
       "**Levels**: 1. 'A'\n",
       "2. 'B'\n",
       "3. 'C'\n",
       "4. 'D'\n",
       "\n",
       "\n"
      ],
      "text/plain": [
       "[1] A C B C\n",
       "Levels: A < B < C < D"
      ]
     },
     "metadata": {},
     "output_type": "display_data"
    },
    {
     "data": {
      "text/html": [
       "<ol class=list-inline>\n",
       "\t<li>'ordered'</li>\n",
       "\t<li>'factor'</li>\n",
       "</ol>\n"
      ],
      "text/latex": [
       "\\begin{enumerate*}\n",
       "\\item 'ordered'\n",
       "\\item 'factor'\n",
       "\\end{enumerate*}\n"
      ],
      "text/markdown": [
       "1. 'ordered'\n",
       "2. 'factor'\n",
       "\n",
       "\n"
      ],
      "text/plain": [
       "[1] \"ordered\" \"factor\" "
      ]
     },
     "metadata": {},
     "output_type": "display_data"
    },
    {
     "data": {
      "text/html": [
       "'Date'"
      ],
      "text/latex": [
       "'Date'"
      ],
      "text/markdown": [
       "'Date'"
      ],
      "text/plain": [
       "[1] \"Date\""
      ]
     },
     "metadata": {},
     "output_type": "display_data"
    },
    {
     "data": {
      "text/html": [
       "<ol class=list-inline>\n",
       "\t<li><time datetime=\"1970-01-20\">1970-01-20</time></li>\n",
       "\t<li><time datetime=\"1980-03-10\">1980-03-10</time></li>\n",
       "\t<li><time datetime=\"1975-05-05\">1975-05-05</time></li>\n",
       "\t<li><time datetime=\"1990-08-29\">1990-08-29</time></li>\n",
       "</ol>\n"
      ],
      "text/latex": [
       "\\begin{enumerate*}\n",
       "\\item 1970-01-20\n",
       "\\item 1980-03-10\n",
       "\\item 1975-05-05\n",
       "\\item 1990-08-29\n",
       "\\end{enumerate*}\n"
      ],
      "text/markdown": [
       "1. 1970-01-20\n",
       "2. 1980-03-10\n",
       "3. 1975-05-05\n",
       "4. 1990-08-29\n",
       "\n",
       "\n"
      ],
      "text/plain": [
       "[1] \"1970-01-20\" \"1980-03-10\" \"1975-05-05\" \"1990-08-29\""
      ]
     },
     "metadata": {},
     "output_type": "display_data"
    }
   ],
   "source": [
    "# AÃ±adir el estado de mora como lÃ³gico\n",
    "estado_mora <- c(FALSE, FALSE, TRUE, TRUE)\n",
    "estado_mora\n",
    "class(estado_mora)\n",
    "\n",
    "estado_mora <- c(F, F, T, T)  # es similar\n",
    "estado_mora\n",
    "class(estado_mora)\n",
    "\n",
    "\n",
    "### Factores ###\n",
    "\n",
    "# AÃ±adir el factor genero\n",
    "genero <- c(\"Masculino\", \"Femenino\", \"Femenino\", \"Masculino\")\n",
    "class(genero)\n",
    "\n",
    "genero <- as.factor(genero)\n",
    "class(genero)\n",
    "\n",
    "is.factor(genero)\n",
    "genero\n",
    "\n",
    "# Otra forma mÃ¡s directa\n",
    "genero <- as.factor(c(\"Masculino\", \"Femenino\", \"Femenino\", \"Masculino\"))\n",
    "class(genero)\n",
    "\n",
    "\n",
    "\n",
    "# Otra forma (solo funciona para datos tipo factor)\n",
    "genero <- factor(c(\"Masculino\", \"Femenino\", \"Femenino\", \"Masculino\"))\n",
    "class(genero)\n",
    "genero\n",
    "\n",
    "# Cambiando las etiquetas de una variable categÃ³rica\n",
    "genero2 <- factor(genero,levels = c(\"Masculino\", \"Femenino\"),\n",
    "                  labels =c(\"M\", \"F\") )\n",
    "genero2\n",
    "table(genero2)\n",
    "\n",
    "# Otra forma directa\n",
    "levels(genero2) = c(\"Hombre\",\"Mujer\")  # Ojo con los levels \n",
    "genero2\n",
    "levels(genero2) = c(\"Macho\",\"Hembra\")  # Ojo con los levels \n",
    "genero2\n",
    "levels(genero2) = c(\"H\",\"F\")  # Ojo con los levels \n",
    "genero2\n",
    "\n",
    "\n",
    "# AÃ±adir el nivel socio-eco\n",
    "nivel <- factor(c(\"A\", \"C\", \"B\", \"C\",\"A\",\"B\",\"A\",\"C\",\"D\"), \n",
    "                order = T, \n",
    "                levels = c(\"D\",\"C\",\"B\",\"A\"))\n",
    "nivel\n",
    "class(nivel)\n",
    "table(nivel)\n",
    "\n",
    "\n",
    "nivel2 <- factor(c(\"M\", \"MB\", \"R\", \"M\",\"M\",\"MB\",\"B\",\"B\",\"B\"), \n",
    "                order = T, \n",
    "                levels = c(\"M\",\"R\",\"B\",\"MB\"))\n",
    "nivel2\n",
    "class(nivel2)\n",
    "table(nivel2)\n",
    "\n",
    "nivel3 <- factor(c(\"A\", \"C\", \"B\", \"C\"), \n",
    "                order = T, \n",
    "                levels = c(\"A\",\"B\",\"C\",\"D\"))\n",
    "nivel3\n",
    "class(nivel3)\n",
    "\n",
    "fecha.nac <- as.Date(c(\"1970-01-20\", \"1980-03-10\", \"1975-05-5\", \"1990-08-29\"))\n",
    "class(fecha.nac)\n",
    "fecha.nac"
   ]
  },
  {
   "cell_type": "code",
   "execution_count": null,
   "id": "8ab32d9f",
   "metadata": {},
   "outputs": [],
   "source": [
    "# Data frames ----------------------------------------------\n",
    "# Un dataframe es como una matriz, pero con la posibilidad de\n",
    "# almacenar datos de distinto tipo\n",
    "# (num, int, logical, factor, character,date)"
   ]
  },
  {
   "cell_type": "code",
   "execution_count": 8,
   "id": "c9e3dd95",
   "metadata": {},
   "outputs": [],
   "source": [
    "df_data <- data.frame(nombres, \n",
    "                      dias, \n",
    "                      estado_mora, \n",
    "                      genero,\n",
    "                      nivel3,\n",
    "                      fecha.nac)"
   ]
  },
  {
   "cell_type": "code",
   "execution_count": 10,
   "id": "e0886503",
   "metadata": {},
   "outputs": [
    {
     "data": {
      "text/html": [
       "<table>\n",
       "<thead><tr><th scope=col>nombres</th><th scope=col>dias</th><th scope=col>estado_mora</th><th scope=col>genero</th><th scope=col>nivel3</th><th scope=col>fecha.nac</th></tr></thead>\n",
       "<tbody>\n",
       "\t<tr><td>Jose      </td><td>15        </td><td>FALSE     </td><td>Masculino </td><td>A         </td><td>1970-01-20</td></tr>\n",
       "\t<tr><td>Luisa     </td><td>20        </td><td>FALSE     </td><td>Femenino  </td><td>C         </td><td>1980-03-10</td></tr>\n",
       "\t<tr><td>MarÃ­a    </td><td>60        </td><td> TRUE     </td><td>Femenino  </td><td>B         </td><td>1975-05-05</td></tr>\n",
       "\t<tr><td>Marco     </td><td>75        </td><td> TRUE     </td><td>Masculino </td><td>C         </td><td>1990-08-29</td></tr>\n",
       "</tbody>\n",
       "</table>\n"
      ],
      "text/latex": [
       "\\begin{tabular}{r|llllll}\n",
       " nombres & dias & estado\\_mora & genero & nivel3 & fecha.nac\\\\\n",
       "\\hline\n",
       "\t Jose       & 15         & FALSE      & Masculino  & A          & 1970-01-20\\\\\n",
       "\t Luisa      & 20         & FALSE      & Femenino   & C          & 1980-03-10\\\\\n",
       "\t MarÃ­a     & 60         &  TRUE      & Femenino   & B          & 1975-05-05\\\\\n",
       "\t Marco      & 75         &  TRUE      & Masculino  & C          & 1990-08-29\\\\\n",
       "\\end{tabular}\n"
      ],
      "text/markdown": [
       "\n",
       "| nombres | dias | estado_mora | genero | nivel3 | fecha.nac |\n",
       "|---|---|---|---|---|---|\n",
       "| Jose       | 15         | FALSE      | Masculino  | A          | 1970-01-20 |\n",
       "| Luisa      | 20         | FALSE      | Femenino   | C          | 1980-03-10 |\n",
       "| MarÃ­a     | 60         |  TRUE      | Femenino   | B          | 1975-05-05 |\n",
       "| Marco      | 75         |  TRUE      | Masculino  | C          | 1990-08-29 |\n",
       "\n"
      ],
      "text/plain": [
       "  nombres dias estado_mora genero    nivel3 fecha.nac \n",
       "1 Jose    15   FALSE       Masculino A      1970-01-20\n",
       "2 Luisa   20   FALSE       Femenino  C      1980-03-10\n",
       "3 MarÃ­a  60    TRUE       Femenino  B      1975-05-05\n",
       "4 Marco   75    TRUE       Masculino C      1990-08-29"
      ]
     },
     "metadata": {},
     "output_type": "display_data"
    },
    {
     "data": {
      "text/html": [
       "TRUE"
      ],
      "text/latex": [
       "TRUE"
      ],
      "text/markdown": [
       "TRUE"
      ],
      "text/plain": [
       "[1] TRUE"
      ]
     },
     "metadata": {},
     "output_type": "display_data"
    },
    {
     "ename": "ERROR",
     "evalue": "Error in View(df_data): 'View()' not yet supported in the Jupyter R kernel\n",
     "output_type": "error",
     "traceback": [
      "Error in View(df_data): 'View()' not yet supported in the Jupyter R kernel\nTraceback:\n",
      "1. View(df_data)",
      "2. stop(sQuote(\"View()\"), \" not yet supported in the Jupyter R kernel\")"
     ]
    }
   ],
   "source": [
    "# Mostrando el data frame\n",
    "df_data\n",
    "is.data.frame(df_data)\n",
    "View(df_data)"
   ]
  },
  {
   "cell_type": "code",
   "execution_count": 12,
   "id": "5709abda",
   "metadata": {},
   "outputs": [
    {
     "data": {
      "text/html": [
       "<ol class=list-inline>\n",
       "\t<li>4</li>\n",
       "\t<li>6</li>\n",
       "</ol>\n"
      ],
      "text/latex": [
       "\\begin{enumerate*}\n",
       "\\item 4\n",
       "\\item 6\n",
       "\\end{enumerate*}\n"
      ],
      "text/markdown": [
       "1. 4\n",
       "2. 6\n",
       "\n",
       "\n"
      ],
      "text/plain": [
       "[1] 4 6"
      ]
     },
     "metadata": {},
     "output_type": "display_data"
    },
    {
     "data": {
      "text/html": [
       "<table>\n",
       "<thead><tr><th scope=col>nombres</th><th scope=col>dias</th><th scope=col>estado_mora</th><th scope=col>genero</th><th scope=col>nivel3</th><th scope=col>fecha.nac</th></tr></thead>\n",
       "<tbody>\n",
       "\t<tr><td>Jose      </td><td>15        </td><td>FALSE     </td><td>Masculino </td><td>A         </td><td>1970-01-20</td></tr>\n",
       "\t<tr><td>Luisa     </td><td>20        </td><td>FALSE     </td><td>Femenino  </td><td>C         </td><td>1980-03-10</td></tr>\n",
       "\t<tr><td>MarÃ­a    </td><td>60        </td><td> TRUE     </td><td>Femenino  </td><td>B         </td><td>1975-05-05</td></tr>\n",
       "\t<tr><td>Marco     </td><td>75        </td><td> TRUE     </td><td>Masculino </td><td>C         </td><td>1990-08-29</td></tr>\n",
       "</tbody>\n",
       "</table>\n"
      ],
      "text/latex": [
       "\\begin{tabular}{r|llllll}\n",
       " nombres & dias & estado\\_mora & genero & nivel3 & fecha.nac\\\\\n",
       "\\hline\n",
       "\t Jose       & 15         & FALSE      & Masculino  & A          & 1970-01-20\\\\\n",
       "\t Luisa      & 20         & FALSE      & Femenino   & C          & 1980-03-10\\\\\n",
       "\t MarÃ­a     & 60         &  TRUE      & Femenino   & B          & 1975-05-05\\\\\n",
       "\t Marco      & 75         &  TRUE      & Masculino  & C          & 1990-08-29\\\\\n",
       "\\end{tabular}\n"
      ],
      "text/markdown": [
       "\n",
       "| nombres | dias | estado_mora | genero | nivel3 | fecha.nac |\n",
       "|---|---|---|---|---|---|\n",
       "| Jose       | 15         | FALSE      | Masculino  | A          | 1970-01-20 |\n",
       "| Luisa      | 20         | FALSE      | Femenino   | C          | 1980-03-10 |\n",
       "| MarÃ­a     | 60         |  TRUE      | Femenino   | B          | 1975-05-05 |\n",
       "| Marco      | 75         |  TRUE      | Masculino  | C          | 1990-08-29 |\n",
       "\n"
      ],
      "text/plain": [
       "  nombres dias estado_mora genero    nivel3 fecha.nac \n",
       "1 Jose    15   FALSE       Masculino A      1970-01-20\n",
       "2 Luisa   20   FALSE       Femenino  C      1980-03-10\n",
       "3 MarÃ­a  60    TRUE       Femenino  B      1975-05-05\n",
       "4 Marco   75    TRUE       Masculino C      1990-08-29"
      ]
     },
     "metadata": {},
     "output_type": "display_data"
    },
    {
     "data": {
      "text/html": [
       "<table>\n",
       "<thead><tr><th scope=col>nombres</th><th scope=col>dias</th><th scope=col>estado_mora</th><th scope=col>genero</th><th scope=col>nivel3</th><th scope=col>fecha.nac</th></tr></thead>\n",
       "<tbody>\n",
       "\t<tr><td>Jose      </td><td>15        </td><td>FALSE     </td><td>Masculino </td><td>A         </td><td>1970-01-20</td></tr>\n",
       "\t<tr><td>Luisa     </td><td>20        </td><td>FALSE     </td><td>Femenino  </td><td>C         </td><td>1980-03-10</td></tr>\n",
       "</tbody>\n",
       "</table>\n"
      ],
      "text/latex": [
       "\\begin{tabular}{r|llllll}\n",
       " nombres & dias & estado\\_mora & genero & nivel3 & fecha.nac\\\\\n",
       "\\hline\n",
       "\t Jose       & 15         & FALSE      & Masculino  & A          & 1970-01-20\\\\\n",
       "\t Luisa      & 20         & FALSE      & Femenino   & C          & 1980-03-10\\\\\n",
       "\\end{tabular}\n"
      ],
      "text/markdown": [
       "\n",
       "| nombres | dias | estado_mora | genero | nivel3 | fecha.nac |\n",
       "|---|---|---|---|---|---|\n",
       "| Jose       | 15         | FALSE      | Masculino  | A          | 1970-01-20 |\n",
       "| Luisa      | 20         | FALSE      | Femenino   | C          | 1980-03-10 |\n",
       "\n"
      ],
      "text/plain": [
       "  nombres dias estado_mora genero    nivel3 fecha.nac \n",
       "1 Jose    15   FALSE       Masculino A      1970-01-20\n",
       "2 Luisa   20   FALSE       Femenino  C      1980-03-10"
      ]
     },
     "metadata": {},
     "output_type": "display_data"
    }
   ],
   "source": [
    "# el nÃºmero de filas y de columnas\n",
    "dim(df_data)\n",
    "\n",
    "# head() muestra los 6 primeros datos del dataframe\n",
    "head(df_data)\n",
    "head(df_data, 2)"
   ]
  },
  {
   "cell_type": "code",
   "execution_count": 13,
   "id": "9be498c4",
   "metadata": {},
   "outputs": [
    {
     "data": {
      "text/html": [
       "<table>\n",
       "<thead><tr><th scope=col>nombres</th><th scope=col>dias</th><th scope=col>estado_mora</th><th scope=col>genero</th><th scope=col>nivel3</th><th scope=col>fecha.nac</th></tr></thead>\n",
       "<tbody>\n",
       "\t<tr><td>Jose      </td><td>15        </td><td>FALSE     </td><td>Masculino </td><td>A         </td><td>1970-01-20</td></tr>\n",
       "\t<tr><td>Luisa     </td><td>20        </td><td>FALSE     </td><td>Femenino  </td><td>C         </td><td>1980-03-10</td></tr>\n",
       "\t<tr><td>MarÃ­a    </td><td>60        </td><td> TRUE     </td><td>Femenino  </td><td>B         </td><td>1975-05-05</td></tr>\n",
       "\t<tr><td>Marco     </td><td>75        </td><td> TRUE     </td><td>Masculino </td><td>C         </td><td>1990-08-29</td></tr>\n",
       "</tbody>\n",
       "</table>\n"
      ],
      "text/latex": [
       "\\begin{tabular}{r|llllll}\n",
       " nombres & dias & estado\\_mora & genero & nivel3 & fecha.nac\\\\\n",
       "\\hline\n",
       "\t Jose       & 15         & FALSE      & Masculino  & A          & 1970-01-20\\\\\n",
       "\t Luisa      & 20         & FALSE      & Femenino   & C          & 1980-03-10\\\\\n",
       "\t MarÃ­a     & 60         &  TRUE      & Femenino   & B          & 1975-05-05\\\\\n",
       "\t Marco      & 75         &  TRUE      & Masculino  & C          & 1990-08-29\\\\\n",
       "\\end{tabular}\n"
      ],
      "text/markdown": [
       "\n",
       "| nombres | dias | estado_mora | genero | nivel3 | fecha.nac |\n",
       "|---|---|---|---|---|---|\n",
       "| Jose       | 15         | FALSE      | Masculino  | A          | 1970-01-20 |\n",
       "| Luisa      | 20         | FALSE      | Femenino   | C          | 1980-03-10 |\n",
       "| MarÃ­a     | 60         |  TRUE      | Femenino   | B          | 1975-05-05 |\n",
       "| Marco      | 75         |  TRUE      | Masculino  | C          | 1990-08-29 |\n",
       "\n"
      ],
      "text/plain": [
       "  nombres dias estado_mora genero    nivel3 fecha.nac \n",
       "1 Jose    15   FALSE       Masculino A      1970-01-20\n",
       "2 Luisa   20   FALSE       Femenino  C      1980-03-10\n",
       "3 MarÃ­a  60    TRUE       Femenino  B      1975-05-05\n",
       "4 Marco   75    TRUE       Masculino C      1990-08-29"
      ]
     },
     "metadata": {},
     "output_type": "display_data"
    },
    {
     "data": {
      "text/html": [
       "<table>\n",
       "<thead><tr><th></th><th scope=col>nombres</th><th scope=col>dias</th><th scope=col>estado_mora</th><th scope=col>genero</th><th scope=col>nivel3</th><th scope=col>fecha.nac</th></tr></thead>\n",
       "<tbody>\n",
       "\t<tr><th scope=row>3</th><td>MarÃ­a    </td><td>60        </td><td>TRUE      </td><td>Femenino  </td><td>B         </td><td>1975-05-05</td></tr>\n",
       "\t<tr><th scope=row>4</th><td>Marco     </td><td>75        </td><td>TRUE      </td><td>Masculino </td><td>C         </td><td>1990-08-29</td></tr>\n",
       "</tbody>\n",
       "</table>\n"
      ],
      "text/latex": [
       "\\begin{tabular}{r|llllll}\n",
       "  & nombres & dias & estado\\_mora & genero & nivel3 & fecha.nac\\\\\n",
       "\\hline\n",
       "\t3 & MarÃ­a     & 60         & TRUE       & Femenino   & B          & 1975-05-05\\\\\n",
       "\t4 & Marco      & 75         & TRUE       & Masculino  & C          & 1990-08-29\\\\\n",
       "\\end{tabular}\n"
      ],
      "text/markdown": [
       "\n",
       "| <!--/--> | nombres | dias | estado_mora | genero | nivel3 | fecha.nac |\n",
       "|---|---|---|---|---|---|---|\n",
       "| 3 | MarÃ­a     | 60         | TRUE       | Femenino   | B          | 1975-05-05 |\n",
       "| 4 | Marco      | 75         | TRUE       | Masculino  | C          | 1990-08-29 |\n",
       "\n"
      ],
      "text/plain": [
       "  nombres dias estado_mora genero    nivel3 fecha.nac \n",
       "3 MarÃ­a  60   TRUE        Femenino  B      1975-05-05\n",
       "4 Marco   75   TRUE        Masculino C      1990-08-29"
      ]
     },
     "metadata": {},
     "output_type": "display_data"
    }
   ],
   "source": [
    "# tail() muestra los 6 Ãºltimos datos del dataframe\n",
    "tail(df_data)\n",
    "tail(df_data, 2)"
   ]
  },
  {
   "cell_type": "code",
   "execution_count": 14,
   "id": "c74d5810",
   "metadata": {},
   "outputs": [
    {
     "name": "stdout",
     "output_type": "stream",
     "text": [
      "'data.frame':\t4 obs. of  6 variables:\n",
      " $ nombres    : Factor w/ 4 levels \"Jose\",\"Luisa\",..: 1 2 3 4\n",
      " $ dias       : num  15 20 60 75\n",
      " $ estado_mora: logi  FALSE FALSE TRUE TRUE\n",
      " $ genero     : Factor w/ 2 levels \"Femenino\",\"Masculino\": 2 1 1 2\n",
      " $ nivel3     : Ord.factor w/ 4 levels \"A\"<\"B\"<\"C\"<\"D\": 1 3 2 3\n",
      " $ fecha.nac  : Date, format: \"1970-01-20\" \"1980-03-10\" ...\n"
     ]
    },
    {
     "data": {
      "text/html": [
       "<ol class=list-inline>\n",
       "\t<li>Jose</li>\n",
       "\t<li>Luisa</li>\n",
       "\t<li>MarÃ­a</li>\n",
       "\t<li>Marco</li>\n",
       "</ol>\n",
       "\n",
       "<details>\n",
       "\t<summary style=display:list-item;cursor:pointer>\n",
       "\t\t<strong>Levels</strong>:\n",
       "\t</summary>\n",
       "\t<ol class=list-inline>\n",
       "\t\t<li>'Jose'</li>\n",
       "\t\t<li>'Luisa'</li>\n",
       "\t\t<li>'MarÃ­a'</li>\n",
       "\t\t<li>'Marco'</li>\n",
       "\t</ol>\n",
       "</details>"
      ],
      "text/latex": [
       "\\begin{enumerate*}\n",
       "\\item Jose\n",
       "\\item Luisa\n",
       "\\item MarÃ­a\n",
       "\\item Marco\n",
       "\\end{enumerate*}\n",
       "\n",
       "\\emph{Levels}: \\begin{enumerate*}\n",
       "\\item 'Jose'\n",
       "\\item 'Luisa'\n",
       "\\item 'MarÃ­a'\n",
       "\\item 'Marco'\n",
       "\\end{enumerate*}\n"
      ],
      "text/markdown": [
       "1. Jose\n",
       "2. Luisa\n",
       "3. MarÃ­a\n",
       "4. Marco\n",
       "\n",
       "\n",
       "\n",
       "**Levels**: 1. 'Jose'\n",
       "2. 'Luisa'\n",
       "3. 'MarÃ­a'\n",
       "4. 'Marco'\n",
       "\n",
       "\n"
      ],
      "text/plain": [
       "[1] Jose   Luisa  MarÃ­a Marco \n",
       "Levels: Jose Luisa MarÃ­a Marco"
      ]
     },
     "metadata": {},
     "output_type": "display_data"
    },
    {
     "data": {
      "text/html": [
       "<ol class=list-inline>\n",
       "\t<li><time datetime=\"1970-01-20\">1970-01-20</time></li>\n",
       "\t<li><time datetime=\"1980-03-10\">1980-03-10</time></li>\n",
       "\t<li><time datetime=\"1975-05-05\">1975-05-05</time></li>\n",
       "\t<li><time datetime=\"1990-08-29\">1990-08-29</time></li>\n",
       "</ol>\n"
      ],
      "text/latex": [
       "\\begin{enumerate*}\n",
       "\\item 1970-01-20\n",
       "\\item 1980-03-10\n",
       "\\item 1975-05-05\n",
       "\\item 1990-08-29\n",
       "\\end{enumerate*}\n"
      ],
      "text/markdown": [
       "1. 1970-01-20\n",
       "2. 1980-03-10\n",
       "3. 1975-05-05\n",
       "4. 1990-08-29\n",
       "\n",
       "\n"
      ],
      "text/plain": [
       "[1] \"1970-01-20\" \"1980-03-10\" \"1975-05-05\" \"1990-08-29\""
      ]
     },
     "metadata": {},
     "output_type": "display_data"
    },
    {
     "data": {
      "text/html": [
       "<ol class=list-inline>\n",
       "\t<li>Jose</li>\n",
       "\t<li>Luisa</li>\n",
       "\t<li>MarÃ­a</li>\n",
       "\t<li>Marco</li>\n",
       "</ol>\n",
       "\n",
       "<details>\n",
       "\t<summary style=display:list-item;cursor:pointer>\n",
       "\t\t<strong>Levels</strong>:\n",
       "\t</summary>\n",
       "\t<ol class=list-inline>\n",
       "\t\t<li>'Jose'</li>\n",
       "\t\t<li>'Luisa'</li>\n",
       "\t\t<li>'MarÃ­a'</li>\n",
       "\t\t<li>'Marco'</li>\n",
       "\t</ol>\n",
       "</details>"
      ],
      "text/latex": [
       "\\begin{enumerate*}\n",
       "\\item Jose\n",
       "\\item Luisa\n",
       "\\item MarÃ­a\n",
       "\\item Marco\n",
       "\\end{enumerate*}\n",
       "\n",
       "\\emph{Levels}: \\begin{enumerate*}\n",
       "\\item 'Jose'\n",
       "\\item 'Luisa'\n",
       "\\item 'MarÃ­a'\n",
       "\\item 'Marco'\n",
       "\\end{enumerate*}\n"
      ],
      "text/markdown": [
       "1. Jose\n",
       "2. Luisa\n",
       "3. MarÃ­a\n",
       "4. Marco\n",
       "\n",
       "\n",
       "\n",
       "**Levels**: 1. 'Jose'\n",
       "2. 'Luisa'\n",
       "3. 'MarÃ­a'\n",
       "4. 'Marco'\n",
       "\n",
       "\n"
      ],
      "text/plain": [
       "[1] Jose   Luisa  MarÃ­a Marco \n",
       "Levels: Jose Luisa MarÃ­a Marco"
      ]
     },
     "metadata": {},
     "output_type": "display_data"
    },
    {
     "data": {
      "text/html": [
       "Luisa\n",
       "<details>\n",
       "\t<summary style=display:list-item;cursor:pointer>\n",
       "\t\t<strong>Levels</strong>:\n",
       "\t</summary>\n",
       "\t<ol class=list-inline>\n",
       "\t\t<li>'Jose'</li>\n",
       "\t\t<li>'Luisa'</li>\n",
       "\t\t<li>'MarÃ­a'</li>\n",
       "\t\t<li>'Marco'</li>\n",
       "\t</ol>\n",
       "</details>"
      ],
      "text/latex": [
       "Luisa\n",
       "\\emph{Levels}: \\begin{enumerate*}\n",
       "\\item 'Jose'\n",
       "\\item 'Luisa'\n",
       "\\item 'MarÃ­a'\n",
       "\\item 'Marco'\n",
       "\\end{enumerate*}\n"
      ],
      "text/markdown": [
       "Luisa\n",
       "**Levels**: 1. 'Jose'\n",
       "2. 'Luisa'\n",
       "3. 'MarÃ­a'\n",
       "4. 'Marco'\n",
       "\n",
       "\n"
      ],
      "text/plain": [
       "[1] Luisa\n",
       "Levels: Jose Luisa MarÃ­a Marco"
      ]
     },
     "metadata": {},
     "output_type": "display_data"
    },
    {
     "data": {
      "text/html": [
       "Luisa\n",
       "<details>\n",
       "\t<summary style=display:list-item;cursor:pointer>\n",
       "\t\t<strong>Levels</strong>:\n",
       "\t</summary>\n",
       "\t<ol class=list-inline>\n",
       "\t\t<li>'Jose'</li>\n",
       "\t\t<li>'Luisa'</li>\n",
       "\t\t<li>'MarÃ­a'</li>\n",
       "\t\t<li>'Marco'</li>\n",
       "\t</ol>\n",
       "</details>"
      ],
      "text/latex": [
       "Luisa\n",
       "\\emph{Levels}: \\begin{enumerate*}\n",
       "\\item 'Jose'\n",
       "\\item 'Luisa'\n",
       "\\item 'MarÃ­a'\n",
       "\\item 'Marco'\n",
       "\\end{enumerate*}\n"
      ],
      "text/markdown": [
       "Luisa\n",
       "**Levels**: 1. 'Jose'\n",
       "2. 'Luisa'\n",
       "3. 'MarÃ­a'\n",
       "4. 'Marco'\n",
       "\n",
       "\n"
      ],
      "text/plain": [
       "[1] Luisa\n",
       "Levels: Jose Luisa MarÃ­a Marco"
      ]
     },
     "metadata": {},
     "output_type": "display_data"
    },
    {
     "data": {
      "text/html": [
       "<table>\n",
       "<thead><tr><th scope=col>nombres</th><th scope=col>fecha.nac</th></tr></thead>\n",
       "<tbody>\n",
       "\t<tr><td>Jose      </td><td>1970-01-20</td></tr>\n",
       "\t<tr><td>Luisa     </td><td>1980-03-10</td></tr>\n",
       "\t<tr><td>MarÃ­a    </td><td>1975-05-05</td></tr>\n",
       "\t<tr><td>Marco     </td><td>1990-08-29</td></tr>\n",
       "</tbody>\n",
       "</table>\n"
      ],
      "text/latex": [
       "\\begin{tabular}{r|ll}\n",
       " nombres & fecha.nac\\\\\n",
       "\\hline\n",
       "\t Jose       & 1970-01-20\\\\\n",
       "\t Luisa      & 1980-03-10\\\\\n",
       "\t MarÃ­a     & 1975-05-05\\\\\n",
       "\t Marco      & 1990-08-29\\\\\n",
       "\\end{tabular}\n"
      ],
      "text/markdown": [
       "\n",
       "| nombres | fecha.nac |\n",
       "|---|---|\n",
       "| Jose       | 1970-01-20 |\n",
       "| Luisa      | 1980-03-10 |\n",
       "| MarÃ­a     | 1975-05-05 |\n",
       "| Marco      | 1990-08-29 |\n",
       "\n"
      ],
      "text/plain": [
       "  nombres fecha.nac \n",
       "1 Jose    1970-01-20\n",
       "2 Luisa   1980-03-10\n",
       "3 MarÃ­a  1975-05-05\n",
       "4 Marco   1990-08-29"
      ]
     },
     "metadata": {},
     "output_type": "display_data"
    },
    {
     "data": {
      "text/html": [
       "<ol class=list-inline>\n",
       "\t<li>Masculino</li>\n",
       "\t<li>Femenino</li>\n",
       "\t<li>Femenino</li>\n",
       "\t<li>Masculino</li>\n",
       "</ol>\n",
       "\n",
       "<details>\n",
       "\t<summary style=display:list-item;cursor:pointer>\n",
       "\t\t<strong>Levels</strong>:\n",
       "\t</summary>\n",
       "\t<ol class=list-inline>\n",
       "\t\t<li>'Femenino'</li>\n",
       "\t\t<li>'Masculino'</li>\n",
       "\t</ol>\n",
       "</details>"
      ],
      "text/latex": [
       "\\begin{enumerate*}\n",
       "\\item Masculino\n",
       "\\item Femenino\n",
       "\\item Femenino\n",
       "\\item Masculino\n",
       "\\end{enumerate*}\n",
       "\n",
       "\\emph{Levels}: \\begin{enumerate*}\n",
       "\\item 'Femenino'\n",
       "\\item 'Masculino'\n",
       "\\end{enumerate*}\n"
      ],
      "text/markdown": [
       "1. Masculino\n",
       "2. Femenino\n",
       "3. Femenino\n",
       "4. Masculino\n",
       "\n",
       "\n",
       "\n",
       "**Levels**: 1. 'Femenino'\n",
       "2. 'Masculino'\n",
       "\n",
       "\n"
      ],
      "text/plain": [
       "[1] Masculino Femenino  Femenino  Masculino\n",
       "Levels: Femenino Masculino"
      ]
     },
     "metadata": {},
     "output_type": "display_data"
    },
    {
     "data": {
      "text/html": [
       "<ol class=list-inline>\n",
       "\t<li>FALSE</li>\n",
       "\t<li>FALSE</li>\n",
       "\t<li>TRUE</li>\n",
       "\t<li>TRUE</li>\n",
       "</ol>\n"
      ],
      "text/latex": [
       "\\begin{enumerate*}\n",
       "\\item FALSE\n",
       "\\item FALSE\n",
       "\\item TRUE\n",
       "\\item TRUE\n",
       "\\end{enumerate*}\n"
      ],
      "text/markdown": [
       "1. FALSE\n",
       "2. FALSE\n",
       "3. TRUE\n",
       "4. TRUE\n",
       "\n",
       "\n"
      ],
      "text/plain": [
       "[1] FALSE FALSE  TRUE  TRUE"
      ]
     },
     "metadata": {},
     "output_type": "display_data"
    },
    {
     "data": {
      "text/html": [
       "<table>\n",
       "<thead><tr><th scope=col>nombres</th><th scope=col>dias</th><th scope=col>estado_mora</th><th scope=col>genero</th><th scope=col>nivel3</th><th scope=col>fecha.nac</th></tr></thead>\n",
       "<tbody>\n",
       "\t<tr><td>Jose      </td><td>15        </td><td>FALSE     </td><td>Masculino </td><td>A         </td><td>1970-01-20</td></tr>\n",
       "\t<tr><td>Luisa     </td><td>20        </td><td>FALSE     </td><td>Femenino  </td><td>C         </td><td>1980-03-10</td></tr>\n",
       "\t<tr><td>MarÃ­a    </td><td>60        </td><td> TRUE     </td><td>Femenino  </td><td>B         </td><td>1975-05-05</td></tr>\n",
       "\t<tr><td>Marco     </td><td>75        </td><td> TRUE     </td><td>Masculino </td><td>C         </td><td>1990-08-29</td></tr>\n",
       "</tbody>\n",
       "</table>\n"
      ],
      "text/latex": [
       "\\begin{tabular}{r|llllll}\n",
       " nombres & dias & estado\\_mora & genero & nivel3 & fecha.nac\\\\\n",
       "\\hline\n",
       "\t Jose       & 15         & FALSE      & Masculino  & A          & 1970-01-20\\\\\n",
       "\t Luisa      & 20         & FALSE      & Femenino   & C          & 1980-03-10\\\\\n",
       "\t MarÃ­a     & 60         &  TRUE      & Femenino   & B          & 1975-05-05\\\\\n",
       "\t Marco      & 75         &  TRUE      & Masculino  & C          & 1990-08-29\\\\\n",
       "\\end{tabular}\n"
      ],
      "text/markdown": [
       "\n",
       "| nombres | dias | estado_mora | genero | nivel3 | fecha.nac |\n",
       "|---|---|---|---|---|---|\n",
       "| Jose       | 15         | FALSE      | Masculino  | A          | 1970-01-20 |\n",
       "| Luisa      | 20         | FALSE      | Femenino   | C          | 1980-03-10 |\n",
       "| MarÃ­a     | 60         |  TRUE      | Femenino   | B          | 1975-05-05 |\n",
       "| Marco      | 75         |  TRUE      | Masculino  | C          | 1990-08-29 |\n",
       "\n"
      ],
      "text/plain": [
       "  nombres dias estado_mora genero    nivel3 fecha.nac \n",
       "1 Jose    15   FALSE       Masculino A      1970-01-20\n",
       "2 Luisa   20   FALSE       Femenino  C      1980-03-10\n",
       "3 MarÃ­a  60    TRUE       Femenino  B      1975-05-05\n",
       "4 Marco   75    TRUE       Masculino C      1990-08-29"
      ]
     },
     "metadata": {},
     "output_type": "display_data"
    },
    {
     "data": {
      "text/html": [
       "<table>\n",
       "<thead><tr><th scope=col>nombres</th><th scope=col>dias</th><th scope=col>estado_mora</th><th scope=col>genero</th><th scope=col>nivel3</th><th scope=col>fecha.nac</th><th scope=col>nombre completo</th></tr></thead>\n",
       "<tbody>\n",
       "\t<tr><td>Jose      </td><td>15        </td><td>FALSE     </td><td>Masculino </td><td>A         </td><td>1970-01-20</td><td>Jose      </td></tr>\n",
       "\t<tr><td>Luisa     </td><td>20        </td><td>FALSE     </td><td>Femenino  </td><td>C         </td><td>1980-03-10</td><td>Luisa     </td></tr>\n",
       "\t<tr><td>MarÃ­a    </td><td>60        </td><td> TRUE     </td><td>Femenino  </td><td>B         </td><td>1975-05-05</td><td>MarÃ­a    </td></tr>\n",
       "\t<tr><td>Marco     </td><td>75        </td><td> TRUE     </td><td>Masculino </td><td>C         </td><td>1990-08-29</td><td>Marco     </td></tr>\n",
       "</tbody>\n",
       "</table>\n"
      ],
      "text/latex": [
       "\\begin{tabular}{r|lllllll}\n",
       " nombres & dias & estado\\_mora & genero & nivel3 & fecha.nac & nombre completo\\\\\n",
       "\\hline\n",
       "\t Jose       & 15         & FALSE      & Masculino  & A          & 1970-01-20 & Jose      \\\\\n",
       "\t Luisa      & 20         & FALSE      & Femenino   & C          & 1980-03-10 & Luisa     \\\\\n",
       "\t MarÃ­a     & 60         &  TRUE      & Femenino   & B          & 1975-05-05 & MarÃ­a    \\\\\n",
       "\t Marco      & 75         &  TRUE      & Masculino  & C          & 1990-08-29 & Marco     \\\\\n",
       "\\end{tabular}\n"
      ],
      "text/markdown": [
       "\n",
       "| nombres | dias | estado_mora | genero | nivel3 | fecha.nac | nombre completo |\n",
       "|---|---|---|---|---|---|---|\n",
       "| Jose       | 15         | FALSE      | Masculino  | A          | 1970-01-20 | Jose       |\n",
       "| Luisa      | 20         | FALSE      | Femenino   | C          | 1980-03-10 | Luisa      |\n",
       "| MarÃ­a     | 60         |  TRUE      | Femenino   | B          | 1975-05-05 | MarÃ­a     |\n",
       "| Marco      | 75         |  TRUE      | Masculino  | C          | 1990-08-29 | Marco      |\n",
       "\n"
      ],
      "text/plain": [
       "  nombres dias estado_mora genero    nivel3 fecha.nac  nombre completo\n",
       "1 Jose    15   FALSE       Masculino A      1970-01-20 Jose           \n",
       "2 Luisa   20   FALSE       Femenino  C      1980-03-10 Luisa          \n",
       "3 MarÃ­a  60    TRUE       Femenino  B      1975-05-05 MarÃ­a         \n",
       "4 Marco   75    TRUE       Masculino C      1990-08-29 Marco          "
      ]
     },
     "metadata": {},
     "output_type": "display_data"
    },
    {
     "data": {
      "text/html": [
       "<ol class=list-inline>\n",
       "\t<li>Jose</li>\n",
       "\t<li>Luisa</li>\n",
       "\t<li>MarÃ­a</li>\n",
       "\t<li>Marco</li>\n",
       "</ol>\n",
       "\n",
       "<details>\n",
       "\t<summary style=display:list-item;cursor:pointer>\n",
       "\t\t<strong>Levels</strong>:\n",
       "\t</summary>\n",
       "\t<ol class=list-inline>\n",
       "\t\t<li>'Jose'</li>\n",
       "\t\t<li>'Luisa'</li>\n",
       "\t\t<li>'MarÃ­a'</li>\n",
       "\t\t<li>'Marco'</li>\n",
       "\t</ol>\n",
       "</details>"
      ],
      "text/latex": [
       "\\begin{enumerate*}\n",
       "\\item Jose\n",
       "\\item Luisa\n",
       "\\item MarÃ­a\n",
       "\\item Marco\n",
       "\\end{enumerate*}\n",
       "\n",
       "\\emph{Levels}: \\begin{enumerate*}\n",
       "\\item 'Jose'\n",
       "\\item 'Luisa'\n",
       "\\item 'MarÃ­a'\n",
       "\\item 'Marco'\n",
       "\\end{enumerate*}\n"
      ],
      "text/markdown": [
       "1. Jose\n",
       "2. Luisa\n",
       "3. MarÃ­a\n",
       "4. Marco\n",
       "\n",
       "\n",
       "\n",
       "**Levels**: 1. 'Jose'\n",
       "2. 'Luisa'\n",
       "3. 'MarÃ­a'\n",
       "4. 'Marco'\n",
       "\n",
       "\n"
      ],
      "text/plain": [
       "[1] Jose   Luisa  MarÃ­a Marco \n",
       "Levels: Jose Luisa MarÃ­a Marco"
      ]
     },
     "metadata": {},
     "output_type": "display_data"
    },
    {
     "name": "stdout",
     "output_type": "stream",
     "text": [
      "'data.frame':\t4 obs. of  7 variables:\n",
      " $ nombres        : chr  \"Jose\" \"Luisa\" \"MarÃ­a\" \"Marco\"\n",
      " $ dias           : num  15 20 60 75\n",
      " $ estado_mora    : logi  FALSE FALSE TRUE TRUE\n",
      " $ genero         : Factor w/ 2 levels \"Femenino\",\"Masculino\": 2 1 1 2\n",
      " $ nivel3         : Ord.factor w/ 4 levels \"A\"<\"B\"<\"C\"<\"D\": 1 3 2 3\n",
      " $ fecha.nac      : Date, format: \"1970-01-20\" \"1980-03-10\" ...\n",
      " $ nombre completo: Factor w/ 4 levels \"Jose\",\"Luisa\",..: 1 2 3 4\n",
      "'data.frame':\t4 obs. of  7 variables:\n",
      " $ nombres        : chr  \"Jose\" \"Luisa\" \"MarÃ­a\" \"Marco\"\n",
      " $ dias           : int  15 20 60 75\n",
      " $ estado_mora    : logi  FALSE FALSE TRUE TRUE\n",
      " $ genero         : Factor w/ 2 levels \"Femenino\",\"Masculino\": 2 1 1 2\n",
      " $ nivel3         : Ord.factor w/ 4 levels \"A\"<\"B\"<\"C\"<\"D\": 1 3 2 3\n",
      " $ fecha.nac      : Date, format: \"1970-01-20\" \"1980-03-10\" ...\n",
      " $ nombre completo: Factor w/ 4 levels \"Jose\",\"Luisa\",..: 1 2 3 4\n"
     ]
    },
    {
     "data": {
      "text/html": [
       "<table>\n",
       "<thead><tr><th scope=col>nombres</th><th scope=col>dias</th><th scope=col>estado_mora</th><th scope=col>genero</th><th scope=col>nivel3</th><th scope=col>fecha.nac</th><th scope=col>nombre completo</th></tr></thead>\n",
       "<tbody>\n",
       "\t<tr><td>Jose      </td><td>15        </td><td>FALSE     </td><td>Masculino </td><td>A         </td><td>1970-01-20</td><td>Jose      </td></tr>\n",
       "\t<tr><td>Luisa     </td><td>20        </td><td>FALSE     </td><td>Femenino  </td><td>C         </td><td>1980-03-10</td><td>Luisa     </td></tr>\n",
       "\t<tr><td>MarÃ­a    </td><td>60        </td><td> TRUE     </td><td>Femenino  </td><td>B         </td><td>1975-05-05</td><td>MarÃ­a    </td></tr>\n",
       "\t<tr><td>Marco     </td><td>75        </td><td> TRUE     </td><td>Masculino </td><td>C         </td><td>1990-08-29</td><td>Marco     </td></tr>\n",
       "</tbody>\n",
       "</table>\n"
      ],
      "text/latex": [
       "\\begin{tabular}{r|lllllll}\n",
       " nombres & dias & estado\\_mora & genero & nivel3 & fecha.nac & nombre completo\\\\\n",
       "\\hline\n",
       "\t Jose       & 15         & FALSE      & Masculino  & A          & 1970-01-20 & Jose      \\\\\n",
       "\t Luisa      & 20         & FALSE      & Femenino   & C          & 1980-03-10 & Luisa     \\\\\n",
       "\t MarÃ­a     & 60         &  TRUE      & Femenino   & B          & 1975-05-05 & MarÃ­a    \\\\\n",
       "\t Marco      & 75         &  TRUE      & Masculino  & C          & 1990-08-29 & Marco     \\\\\n",
       "\\end{tabular}\n"
      ],
      "text/markdown": [
       "\n",
       "| nombres | dias | estado_mora | genero | nivel3 | fecha.nac | nombre completo |\n",
       "|---|---|---|---|---|---|---|\n",
       "| Jose       | 15         | FALSE      | Masculino  | A          | 1970-01-20 | Jose       |\n",
       "| Luisa      | 20         | FALSE      | Femenino   | C          | 1980-03-10 | Luisa      |\n",
       "| MarÃ­a     | 60         |  TRUE      | Femenino   | B          | 1975-05-05 | MarÃ­a     |\n",
       "| Marco      | 75         |  TRUE      | Masculino  | C          | 1990-08-29 | Marco      |\n",
       "\n"
      ],
      "text/plain": [
       "  nombres dias estado_mora genero    nivel3 fecha.nac  nombre completo\n",
       "1 Jose    15   FALSE       Masculino A      1970-01-20 Jose           \n",
       "2 Luisa   20   FALSE       Femenino  C      1980-03-10 Luisa          \n",
       "3 MarÃ­a  60    TRUE       Femenino  B      1975-05-05 MarÃ­a         \n",
       "4 Marco   75    TRUE       Masculino C      1990-08-29 Marco          "
      ]
     },
     "metadata": {},
     "output_type": "display_data"
    },
    {
     "data": {
      "text/html": [
       "15"
      ],
      "text/latex": [
       "15"
      ],
      "text/markdown": [
       "15"
      ],
      "text/plain": [
       "[1] 15"
      ]
     },
     "metadata": {},
     "output_type": "display_data"
    },
    {
     "data": {
      "text/html": [
       "15"
      ],
      "text/latex": [
       "15"
      ],
      "text/markdown": [
       "15"
      ],
      "text/plain": [
       "[1] 15"
      ]
     },
     "metadata": {},
     "output_type": "display_data"
    }
   ],
   "source": [
    "# str() muestra la estructura del data frame.\n",
    "# str() muestra los tipo de datos y una muestra de los mismos\n",
    "str(df_data)\n",
    "\n",
    "\n",
    "# Accediendo a datos de un data frame\n",
    "# Obtener una sola columna\n",
    "df_data$nombres\n",
    "df_data$fecha.nac\n",
    "\n",
    "# Data frame tiene dos dimensiones df_data[filas, columnas]\n",
    "df_data[ ,1]\n",
    "df_data[2,1]\n",
    "df_data[2, \"nombres\"]\n",
    "df_data[, c(\"nombres\",\"fecha.nac\")]\n",
    "df_data[[4]]\n",
    "\n",
    "df_data$estado_mora\n",
    "\n",
    "df_data\n",
    "#creaciÃ³n de nuevas columnas a partir de otras\n",
    "df_data[\"nombre completo\"] <- df_data[\"nombres\"]\n",
    "\n",
    "df_data\n",
    "df_data$\"nombre completo\"\n",
    "\n",
    "#cambiar la primera columna a caracter\n",
    "df_data$nombres <- as.character(df_data$nombres)\n",
    "str(df_data)\n",
    "\n",
    "# Cambiando el tipo de datos de numeric a integer\n",
    "df_data$dias    <- as.integer(df_data$dias)\n",
    "\n",
    "str(df_data)\n",
    "\n",
    "# Accesando a una fila y una columna\n",
    "df_data\n",
    "df_data[1, 2]\n",
    "\n",
    "df_data$dias[1]  # es equivalente"
   ]
  },
  {
   "cell_type": "markdown",
   "id": "a7c6dff3",
   "metadata": {},
   "source": [
    "# 9. Almacenando los datos ------------------------------------"
   ]
  },
  {
   "cell_type": "code",
   "execution_count": 18,
   "id": "44e09f9e",
   "metadata": {},
   "outputs": [
    {
     "data": {
      "text/html": [
       "<table>\n",
       "<thead><tr><th scope=col>nombres</th><th scope=col>dias</th><th scope=col>estado_mora</th><th scope=col>genero</th><th scope=col>nivel3</th><th scope=col>fecha.nac</th><th scope=col>nombre.completo</th></tr></thead>\n",
       "<tbody>\n",
       "\t<tr><td>Jose      </td><td>15        </td><td>FALSE     </td><td>Masculino </td><td>A         </td><td>1970-01-20</td><td>Jose      </td></tr>\n",
       "\t<tr><td>Luisa     </td><td>20        </td><td>FALSE     </td><td>Femenino  </td><td>C         </td><td>1980-03-10</td><td>Luisa     </td></tr>\n",
       "\t<tr><td>MarÃ­a    </td><td>60        </td><td> TRUE     </td><td>Femenino  </td><td>B         </td><td>1975-05-05</td><td>MarÃ­a    </td></tr>\n",
       "\t<tr><td>Marco     </td><td>75        </td><td> TRUE     </td><td>Masculino </td><td>C         </td><td>1990-08-29</td><td>Marco     </td></tr>\n",
       "</tbody>\n",
       "</table>\n"
      ],
      "text/latex": [
       "\\begin{tabular}{r|lllllll}\n",
       " nombres & dias & estado\\_mora & genero & nivel3 & fecha.nac & nombre.completo\\\\\n",
       "\\hline\n",
       "\t Jose       & 15         & FALSE      & Masculino  & A          & 1970-01-20 & Jose      \\\\\n",
       "\t Luisa      & 20         & FALSE      & Femenino   & C          & 1980-03-10 & Luisa     \\\\\n",
       "\t MarÃ­a     & 60         &  TRUE      & Femenino   & B          & 1975-05-05 & MarÃ­a    \\\\\n",
       "\t Marco      & 75         &  TRUE      & Masculino  & C          & 1990-08-29 & Marco     \\\\\n",
       "\\end{tabular}\n"
      ],
      "text/markdown": [
       "\n",
       "| nombres | dias | estado_mora | genero | nivel3 | fecha.nac | nombre.completo |\n",
       "|---|---|---|---|---|---|---|\n",
       "| Jose       | 15         | FALSE      | Masculino  | A          | 1970-01-20 | Jose       |\n",
       "| Luisa      | 20         | FALSE      | Femenino   | C          | 1980-03-10 | Luisa      |\n",
       "| MarÃ­a     | 60         |  TRUE      | Femenino   | B          | 1975-05-05 | MarÃ­a     |\n",
       "| Marco      | 75         |  TRUE      | Masculino  | C          | 1990-08-29 | Marco      |\n",
       "\n"
      ],
      "text/plain": [
       "  nombres dias estado_mora genero    nivel3 fecha.nac  nombre.completo\n",
       "1 Jose    15   FALSE       Masculino A      1970-01-20 Jose           \n",
       "2 Luisa   20   FALSE       Femenino  C      1980-03-10 Luisa          \n",
       "3 MarÃ­a  60    TRUE       Femenino  B      1975-05-05 MarÃ­a         \n",
       "4 Marco   75    TRUE       Masculino C      1990-08-29 Marco          "
      ]
     },
     "metadata": {},
     "output_type": "display_data"
    },
    {
     "data": {
      "text/html": [
       "<ol class=list-inline>\n",
       "\t<li>15</li>\n",
       "\t<li>20</li>\n",
       "\t<li>60</li>\n",
       "\t<li>75</li>\n",
       "</ol>\n"
      ],
      "text/latex": [
       "\\begin{enumerate*}\n",
       "\\item 15\n",
       "\\item 20\n",
       "\\item 60\n",
       "\\item 75\n",
       "\\end{enumerate*}\n"
      ],
      "text/markdown": [
       "1. 15\n",
       "2. 20\n",
       "3. 60\n",
       "4. 75\n",
       "\n",
       "\n"
      ],
      "text/plain": [
       "[1] 15 20 60 75"
      ]
     },
     "metadata": {},
     "output_type": "display_data"
    },
    {
     "data": {
      "text/html": [
       "<table>\n",
       "<thead><tr><th scope=col>nombres</th><th scope=col>dias</th><th scope=col>estado_mora</th><th scope=col>genero</th><th scope=col>nivel3</th><th scope=col>fecha.nac</th><th scope=col>nombre.completo</th></tr></thead>\n",
       "<tbody>\n",
       "\t<tr><td>Jose      </td><td>15        </td><td>NA        </td><td>Masculino </td><td>A         </td><td>1970-01-20</td><td>Jose      </td></tr>\n",
       "\t<tr><td>Luisa     </td><td>20        </td><td>NA        </td><td>Femenino  </td><td>C         </td><td>1980-03-10</td><td>Luisa     </td></tr>\n",
       "\t<tr><td>MarÃ­a    </td><td>60        </td><td>NA        </td><td>Femenino  </td><td>B         </td><td>1975-05-05</td><td>MarÃ­a    </td></tr>\n",
       "\t<tr><td>Marco     </td><td>75        </td><td>NA        </td><td>Masculino </td><td>C         </td><td>1990-08-29</td><td>Marco     </td></tr>\n",
       "</tbody>\n",
       "</table>\n"
      ],
      "text/latex": [
       "\\begin{tabular}{r|lllllll}\n",
       " nombres & dias & estado\\_mora & genero & nivel3 & fecha.nac & nombre.completo\\\\\n",
       "\\hline\n",
       "\t Jose       & 15         & NA         & Masculino  & A          & 1970-01-20 & Jose      \\\\\n",
       "\t Luisa      & 20         & NA         & Femenino   & C          & 1980-03-10 & Luisa     \\\\\n",
       "\t MarÃ­a     & 60         & NA         & Femenino   & B          & 1975-05-05 & MarÃ­a    \\\\\n",
       "\t Marco      & 75         & NA         & Masculino  & C          & 1990-08-29 & Marco     \\\\\n",
       "\\end{tabular}\n"
      ],
      "text/markdown": [
       "\n",
       "| nombres | dias | estado_mora | genero | nivel3 | fecha.nac | nombre.completo |\n",
       "|---|---|---|---|---|---|---|\n",
       "| Jose       | 15         | NA         | Masculino  | A          | 1970-01-20 | Jose       |\n",
       "| Luisa      | 20         | NA         | Femenino   | C          | 1980-03-10 | Luisa      |\n",
       "| MarÃ­a     | 60         | NA         | Femenino   | B          | 1975-05-05 | MarÃ­a     |\n",
       "| Marco      | 75         | NA         | Masculino  | C          | 1990-08-29 | Marco      |\n",
       "\n"
      ],
      "text/plain": [
       "  nombres dias estado_mora genero    nivel3 fecha.nac  nombre.completo\n",
       "1 Jose    15   NA          Masculino A      1970-01-20 Jose           \n",
       "2 Luisa   20   NA          Femenino  C      1980-03-10 Luisa          \n",
       "3 MarÃ­a  60   NA          Femenino  B      1975-05-05 MarÃ­a         \n",
       "4 Marco   75   NA          Masculino C      1990-08-29 Marco          "
      ]
     },
     "metadata": {},
     "output_type": "display_data"
    }
   ],
   "source": [
    "datos1 <- read.csv(\"df_data_ILEN.csv\")\n",
    "datos1\n",
    "datos1$dias\n",
    "\n",
    "datos1$estado_mora = NA\n",
    "datos1"
   ]
  },
  {
   "cell_type": "code",
   "execution_count": null,
   "id": "bc55c33a",
   "metadata": {},
   "outputs": [],
   "source": []
  }
 ],
 "metadata": {
  "kernelspec": {
   "display_name": "R",
   "language": "R",
   "name": "ir"
  },
  "language_info": {
   "codemirror_mode": "r",
   "file_extension": ".r",
   "mimetype": "text/x-r-source",
   "name": "R",
   "pygments_lexer": "r",
   "version": "3.6.1"
  }
 },
 "nbformat": 4,
 "nbformat_minor": 5
}
